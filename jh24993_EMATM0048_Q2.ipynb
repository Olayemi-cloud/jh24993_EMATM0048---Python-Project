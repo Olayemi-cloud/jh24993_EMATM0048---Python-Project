{
 "cells": [
  {
   "cell_type": "markdown",
   "id": "4eea8071-8ca2-47c0-be1b-d37cd7c3e9ad",
   "metadata": {},
   "source": [
    "# SPDA SUMMATIVE ASSESSMENT QUESTION 2\n"
   ]
  },
  {
   "cell_type": "markdown",
   "id": "f83c2cb9-25c2-497e-8f89-07fb2e1e88f1",
   "metadata": {},
   "source": [
    "## Webscrapping Using Reddit API\n"
   ]
  },
  {
   "cell_type": "markdown",
   "id": "e2f0b74c-acd1-4df0-9424-69dadd822187",
   "metadata": {},
   "source": [
    "The data was gotten from the Reddit website, under the r\\health session.\n",
    "\n",
    "The data consist of all the trending health topics being dicussed on the forum - r\\health from 10/2/2024 - 11/15/2024.\n",
    "\n",
    "This data is important to know the current health trends as it realtes to citizen joournalism. This data can inform writers and journalists on the key topics people are interested to know more about.\n",
    "\n",
    "The variables of interst includes -  'title'- which represents the trending topics, 'num_comments' - the total comments per topic, 'score - ',, 'author - the initiator of the topica which in this case includes news oulets like nbc news, ctvnews etc'\n",
    "\n",
    "Praw was installed using \"pip install praw\" to enable scrapping from the Reddit website. Praw is a Python wrapper for the Reddit API, which makes authentication and JSON parsing easy."
   ]
  },
  {
   "cell_type": "code",
   "execution_count": 19,
   "id": "df8e5e76-2fdc-4b7a-ac41-5ab25aad0818",
   "metadata": {},
   "outputs": [
    {
     "name": "stdout",
     "output_type": "stream",
     "text": [
      "Authenticated as: Life_Hat1137\n"
     ]
    }
   ],
   "source": [
    "import praw\n",
    "\n",
    "# Authenticate as a specific user\n",
    "reddit = praw.Reddit(\n",
    "    client_id=\"5Wv14SUqGs8ETZ8inzjcMg\",\n",
    "    client_secret=\"0zUUYuMLM2vBe2-XVIExAqochF5gQQ\",\n",
    "    user_agent=\"windows:my_app:1.0 (by /u/Life_Hat1137)\",\n",
    "    username=\"Life_Hat1137\",  # Your Reddit username\n",
    "    password=\"Ola07061193131\"  # Your Reddit password\n",
    ")\n",
    "\n",
    "print(\"Authenticated as:\", reddit.user.me())\n"
   ]
  },
  {
   "cell_type": "markdown",
   "id": "c849ae0e-0af3-4474-bb84-65e3478f6a6a",
   "metadata": {},
   "source": [
    "#### Step 2 - Perform data preparation/cleaning"
   ]
  },
  {
   "cell_type": "code",
   "execution_count": 23,
   "id": "3f5d2936-4541-4544-b5c0-5448478a7559",
   "metadata": {},
   "outputs": [
    {
     "name": "stdout",
     "output_type": "stream",
     "text": [
      "        id                                              title  num_comments  \\\n",
      "0  1grfl90  Trump picks RFK Jr. , anti-vaccine activist, f...           264   \n",
      "1  1grtoqr  Opinion | Can America’s Health Survive Robert ...            30   \n",
      "2  1grm4dj  Want to live an extra 5 years? Those over 40 s...            67   \n",
      "3  1gru3ix  The First Crispr Treatment Is Making Its Way t...             4   \n",
      "4  1grkkal  Winter Haven commissioners vote to remove fluo...            64   \n",
      "\n",
      "   score  upvote_ratio       domain  gilded  num_crossposts   nsfw  \\\n",
      "0    797          0.89  nbcnews.com       0               3  False   \n",
      "1     59          0.78  nytimes.com       0               0  False   \n",
      "2    238          0.93  cbsnews.com       0               1  False   \n",
      "3     35          0.92    wired.com       0               0  False   \n",
      "4    150          0.92     wfla.com       0               0  False   \n",
      "\n",
      "              author subreddit        date  \n",
      "0            nbcnews    Health  2024-11-14  \n",
      "1         nytopinion    Health  2024-11-15  \n",
      "2  wonderingsocrates    Health  2024-11-15  \n",
      "3      wiredmagazine    Health  2024-11-15  \n",
      "4            newzee1    Health  2024-11-15  \n"
     ]
    }
   ],
   "source": [
    "import praw\n",
    "import pandas as pd\n",
    "import arrow  # Importing arrow\n",
    "\n",
    "# List to store submission data\n",
    "health_submissions = []\n",
    "\n",
    "# Get submissions from r/health\n",
    "for submission in reddit.subreddit('health').hot(limit=500):  # Adjust limit as needed\n",
    "    d = {}\n",
    "    d['id'] = submission.id\n",
    "    d['title'] = submission.title\n",
    "    d['num_comments'] = submission.num_comments\n",
    "    d['score'] = submission.score\n",
    "    d['upvote_ratio'] = submission.upvote_ratio\n",
    "    d['domain'] = submission.domain\n",
    "    d['gilded'] = submission.gilded\n",
    "    d['num_crossposts'] = submission.num_crossposts\n",
    "    d['nsfw'] = submission.over_18\n",
    "    d['author'] = submission.author.name if submission.author else None\n",
    "    d['subreddit'] = submission.subreddit.display_name\n",
    "    \n",
    "    # Convert created_utc to a human-readable date using arrow\n",
    "    d['date'] = arrow.get(submission.created_utc).format('YYYY-MM-DD')\n",
    "    \n",
    "    health_submissions.append(d)\n",
    "\n",
    "# Convert to DataFrame for easier analysis\n",
    "df = pd.DataFrame(health_submissions)\n",
    "\n",
    "# Display the first few rows\n",
    "print(df.head())\n",
    "\n",
    "# Optionally, save to a CSV file\n",
    "df.to_csv('health_reddit_data_with_dates_arrow.csv', index=False)\n"
   ]
  },
  {
   "cell_type": "code",
   "execution_count": 25,
   "id": "7ac9ca5b-24de-4b7e-bf06-5f01e01e8589",
   "metadata": {},
   "outputs": [
    {
     "name": "stdout",
     "output_type": "stream",
     "text": [
      "Number of rows: 418\n",
      "Number of columns: 12\n"
     ]
    }
   ],
   "source": [
    "# Assuming 'df' is your DataFrame\n",
    "rows, columns = df.shape\n",
    "\n",
    "# Print number of rows and columns\n",
    "print(f\"Number of rows: {rows}\")\n",
    "print(f\"Number of columns: {columns}\")"
   ]
  },
  {
   "cell_type": "code",
   "execution_count": 59,
   "id": "229b84ea-72f8-43ff-a549-ab9e97103dfa",
   "metadata": {},
   "outputs": [],
   "source": [
    "health_reddit = pd.read_csv('health_reddit_data_with_dates_arrow.csv')"
   ]
  },
  {
   "cell_type": "code",
   "execution_count": 61,
   "id": "601c63a4-8bdd-42b0-a890-c16f9446c5aa",
   "metadata": {},
   "outputs": [
    {
     "data": {
      "text/plain": [
       "Index(['id', 'title', 'num_comments', 'score', 'upvote_ratio', 'domain',\n",
       "       'gilded', 'num_crossposts', 'nsfw', 'author', 'subreddit', 'date'],\n",
       "      dtype='object')"
      ]
     },
     "execution_count": 61,
     "metadata": {},
     "output_type": "execute_result"
    }
   ],
   "source": [
    "health_reddit.columns"
   ]
  },
  {
   "cell_type": "code",
   "execution_count": 63,
   "id": "5669f5fa-8474-4d5c-876b-8e66e4a1ba38",
   "metadata": {},
   "outputs": [
    {
     "data": {
      "text/html": [
       "<div>\n",
       "<style scoped>\n",
       "    .dataframe tbody tr th:only-of-type {\n",
       "        vertical-align: middle;\n",
       "    }\n",
       "\n",
       "    .dataframe tbody tr th {\n",
       "        vertical-align: top;\n",
       "    }\n",
       "\n",
       "    .dataframe thead th {\n",
       "        text-align: right;\n",
       "    }\n",
       "</style>\n",
       "<table border=\"1\" class=\"dataframe\">\n",
       "  <thead>\n",
       "    <tr style=\"text-align: right;\">\n",
       "      <th></th>\n",
       "      <th>id</th>\n",
       "      <th>title</th>\n",
       "      <th>num_comments</th>\n",
       "      <th>score</th>\n",
       "      <th>upvote_ratio</th>\n",
       "      <th>domain</th>\n",
       "      <th>gilded</th>\n",
       "      <th>num_crossposts</th>\n",
       "      <th>nsfw</th>\n",
       "      <th>author</th>\n",
       "      <th>subreddit</th>\n",
       "      <th>date</th>\n",
       "    </tr>\n",
       "  </thead>\n",
       "  <tbody>\n",
       "    <tr>\n",
       "      <th>count</th>\n",
       "      <td>418</td>\n",
       "      <td>418</td>\n",
       "      <td>418.000000</td>\n",
       "      <td>418.000000</td>\n",
       "      <td>418.000000</td>\n",
       "      <td>418</td>\n",
       "      <td>418.0</td>\n",
       "      <td>418.000000</td>\n",
       "      <td>418</td>\n",
       "      <td>418</td>\n",
       "      <td>418</td>\n",
       "      <td>418</td>\n",
       "    </tr>\n",
       "    <tr>\n",
       "      <th>unique</th>\n",
       "      <td>418</td>\n",
       "      <td>415</td>\n",
       "      <td>NaN</td>\n",
       "      <td>NaN</td>\n",
       "      <td>NaN</td>\n",
       "      <td>115</td>\n",
       "      <td>NaN</td>\n",
       "      <td>NaN</td>\n",
       "      <td>2</td>\n",
       "      <td>113</td>\n",
       "      <td>1</td>\n",
       "      <td>45</td>\n",
       "    </tr>\n",
       "    <tr>\n",
       "      <th>top</th>\n",
       "      <td>1grfl90</td>\n",
       "      <td>Inside the Company Helping America’s Biggest H...</td>\n",
       "      <td>NaN</td>\n",
       "      <td>NaN</td>\n",
       "      <td>NaN</td>\n",
       "      <td>nbcnews.com</td>\n",
       "      <td>NaN</td>\n",
       "      <td>NaN</td>\n",
       "      <td>False</td>\n",
       "      <td>nbcnews</td>\n",
       "      <td>Health</td>\n",
       "      <td>2024-10-24</td>\n",
       "    </tr>\n",
       "    <tr>\n",
       "      <th>freq</th>\n",
       "      <td>1</td>\n",
       "      <td>2</td>\n",
       "      <td>NaN</td>\n",
       "      <td>NaN</td>\n",
       "      <td>NaN</td>\n",
       "      <td>30</td>\n",
       "      <td>NaN</td>\n",
       "      <td>NaN</td>\n",
       "      <td>417</td>\n",
       "      <td>26</td>\n",
       "      <td>418</td>\n",
       "      <td>18</td>\n",
       "    </tr>\n",
       "    <tr>\n",
       "      <th>mean</th>\n",
       "      <td>NaN</td>\n",
       "      <td>NaN</td>\n",
       "      <td>25.208134</td>\n",
       "      <td>174.521531</td>\n",
       "      <td>0.919163</td>\n",
       "      <td>NaN</td>\n",
       "      <td>0.0</td>\n",
       "      <td>0.160287</td>\n",
       "      <td>NaN</td>\n",
       "      <td>NaN</td>\n",
       "      <td>NaN</td>\n",
       "      <td>NaN</td>\n",
       "    </tr>\n",
       "    <tr>\n",
       "      <th>std</th>\n",
       "      <td>NaN</td>\n",
       "      <td>NaN</td>\n",
       "      <td>46.522909</td>\n",
       "      <td>228.035392</td>\n",
       "      <td>0.105887</td>\n",
       "      <td>NaN</td>\n",
       "      <td>0.0</td>\n",
       "      <td>0.421999</td>\n",
       "      <td>NaN</td>\n",
       "      <td>NaN</td>\n",
       "      <td>NaN</td>\n",
       "      <td>NaN</td>\n",
       "    </tr>\n",
       "    <tr>\n",
       "      <th>min</th>\n",
       "      <td>NaN</td>\n",
       "      <td>NaN</td>\n",
       "      <td>0.000000</td>\n",
       "      <td>0.000000</td>\n",
       "      <td>0.180000</td>\n",
       "      <td>NaN</td>\n",
       "      <td>0.0</td>\n",
       "      <td>0.000000</td>\n",
       "      <td>NaN</td>\n",
       "      <td>NaN</td>\n",
       "      <td>NaN</td>\n",
       "      <td>NaN</td>\n",
       "    </tr>\n",
       "    <tr>\n",
       "      <th>25%</th>\n",
       "      <td>NaN</td>\n",
       "      <td>NaN</td>\n",
       "      <td>2.000000</td>\n",
       "      <td>31.000000</td>\n",
       "      <td>0.900000</td>\n",
       "      <td>NaN</td>\n",
       "      <td>0.0</td>\n",
       "      <td>0.000000</td>\n",
       "      <td>NaN</td>\n",
       "      <td>NaN</td>\n",
       "      <td>NaN</td>\n",
       "      <td>NaN</td>\n",
       "    </tr>\n",
       "    <tr>\n",
       "      <th>50%</th>\n",
       "      <td>NaN</td>\n",
       "      <td>NaN</td>\n",
       "      <td>6.000000</td>\n",
       "      <td>82.500000</td>\n",
       "      <td>0.950000</td>\n",
       "      <td>NaN</td>\n",
       "      <td>0.0</td>\n",
       "      <td>0.000000</td>\n",
       "      <td>NaN</td>\n",
       "      <td>NaN</td>\n",
       "      <td>NaN</td>\n",
       "      <td>NaN</td>\n",
       "    </tr>\n",
       "    <tr>\n",
       "      <th>75%</th>\n",
       "      <td>NaN</td>\n",
       "      <td>NaN</td>\n",
       "      <td>27.500000</td>\n",
       "      <td>240.250000</td>\n",
       "      <td>0.980000</td>\n",
       "      <td>NaN</td>\n",
       "      <td>0.0</td>\n",
       "      <td>0.000000</td>\n",
       "      <td>NaN</td>\n",
       "      <td>NaN</td>\n",
       "      <td>NaN</td>\n",
       "      <td>NaN</td>\n",
       "    </tr>\n",
       "    <tr>\n",
       "      <th>max</th>\n",
       "      <td>NaN</td>\n",
       "      <td>NaN</td>\n",
       "      <td>344.000000</td>\n",
       "      <td>1360.000000</td>\n",
       "      <td>1.000000</td>\n",
       "      <td>NaN</td>\n",
       "      <td>0.0</td>\n",
       "      <td>3.000000</td>\n",
       "      <td>NaN</td>\n",
       "      <td>NaN</td>\n",
       "      <td>NaN</td>\n",
       "      <td>NaN</td>\n",
       "    </tr>\n",
       "  </tbody>\n",
       "</table>\n",
       "</div>"
      ],
      "text/plain": [
       "             id                                              title  \\\n",
       "count       418                                                418   \n",
       "unique      418                                                415   \n",
       "top     1grfl90  Inside the Company Helping America’s Biggest H...   \n",
       "freq          1                                                  2   \n",
       "mean        NaN                                                NaN   \n",
       "std         NaN                                                NaN   \n",
       "min         NaN                                                NaN   \n",
       "25%         NaN                                                NaN   \n",
       "50%         NaN                                                NaN   \n",
       "75%         NaN                                                NaN   \n",
       "max         NaN                                                NaN   \n",
       "\n",
       "        num_comments        score  upvote_ratio       domain  gilded  \\\n",
       "count     418.000000   418.000000    418.000000          418   418.0   \n",
       "unique           NaN          NaN           NaN          115     NaN   \n",
       "top              NaN          NaN           NaN  nbcnews.com     NaN   \n",
       "freq             NaN          NaN           NaN           30     NaN   \n",
       "mean       25.208134   174.521531      0.919163          NaN     0.0   \n",
       "std        46.522909   228.035392      0.105887          NaN     0.0   \n",
       "min         0.000000     0.000000      0.180000          NaN     0.0   \n",
       "25%         2.000000    31.000000      0.900000          NaN     0.0   \n",
       "50%         6.000000    82.500000      0.950000          NaN     0.0   \n",
       "75%        27.500000   240.250000      0.980000          NaN     0.0   \n",
       "max       344.000000  1360.000000      1.000000          NaN     0.0   \n",
       "\n",
       "        num_crossposts   nsfw   author subreddit        date  \n",
       "count       418.000000    418      418       418         418  \n",
       "unique             NaN      2      113         1          45  \n",
       "top                NaN  False  nbcnews    Health  2024-10-24  \n",
       "freq               NaN    417       26       418          18  \n",
       "mean          0.160287    NaN      NaN       NaN         NaN  \n",
       "std           0.421999    NaN      NaN       NaN         NaN  \n",
       "min           0.000000    NaN      NaN       NaN         NaN  \n",
       "25%           0.000000    NaN      NaN       NaN         NaN  \n",
       "50%           0.000000    NaN      NaN       NaN         NaN  \n",
       "75%           0.000000    NaN      NaN       NaN         NaN  \n",
       "max           3.000000    NaN      NaN       NaN         NaN  "
      ]
     },
     "execution_count": 63,
     "metadata": {},
     "output_type": "execute_result"
    }
   ],
   "source": [
    "health_reddit.describe(include= 'all')"
   ]
  },
  {
   "cell_type": "code",
   "execution_count": 47,
   "id": "3bf3426f-effe-4fa9-a356-fc07f02d8896",
   "metadata": {},
   "outputs": [
    {
     "data": {
      "text/plain": [
       "author\n",
       "nbcnews                 26\n",
       "euronews-english        22\n",
       "Maxcactus               20\n",
       "nytopinion              18\n",
       "CTVNEWS                 18\n",
       "                        ..\n",
       "indig0sixalpha           1\n",
       "sullie363                1\n",
       "Southern_Opposite747     1\n",
       "shinybrighthings         1\n",
       "LosFelizCB               1\n",
       "Name: count, Length: 113, dtype: int64"
      ]
     },
     "execution_count": 47,
     "metadata": {},
     "output_type": "execute_result"
    }
   ],
   "source": [
    "health_reddit.author.value_counts()"
   ]
  },
  {
   "cell_type": "markdown",
   "id": "3eacd6b9-eb39-4ac7-8ecd-9bf6ab167b71",
   "metadata": {},
   "source": [
    "#### Missing data"
   ]
  },
  {
   "cell_type": "code",
   "execution_count": null,
   "id": "60eaba28-b772-4f1a-8fdd-1c93df82b2ae",
   "metadata": {},
   "outputs": [],
   "source": [
    "The data showed no missing values."
   ]
  },
  {
   "cell_type": "code",
   "execution_count": 32,
   "id": "863e10be-0ba8-41b2-8643-0e15c13d689f",
   "metadata": {},
   "outputs": [
    {
     "name": "stdout",
     "output_type": "stream",
     "text": [
      "id                0\n",
      "title             0\n",
      "num_comments      0\n",
      "score             0\n",
      "upvote_ratio      0\n",
      "domain            0\n",
      "gilded            0\n",
      "num_crossposts    0\n",
      "nsfw              0\n",
      "author            0\n",
      "subreddit         0\n",
      "date              0\n",
      "dtype: int64\n"
     ]
    }
   ],
   "source": [
    "# Identify missing values\n",
    "print(df.isnull().sum())  # Count missing values in each column"
   ]
  },
  {
   "cell_type": "markdown",
   "id": "4af2795e-87df-4cc3-b911-5cfb59db4edf",
   "metadata": {},
   "source": [
    "#### Checking for outliers"
   ]
  },
  {
   "cell_type": "markdown",
   "id": "3ef201cb-ceec-45e4-a32e-6815203c35cd",
   "metadata": {},
   "source": [
    "The result below shows no presence of outliers"
   ]
  },
  {
   "cell_type": "code",
   "execution_count": 75,
   "id": "b4f088c6-0a78-4960-8ea0-ecb9797fb945",
   "metadata": {
    "scrolled": true
   },
   "outputs": [
    {
     "data": {
      "text/plain": [
       "(0.0, 10000.0)"
      ]
     },
     "execution_count": 75,
     "metadata": {},
     "output_type": "execute_result"
    },
    {
     "data": {
      "image/png": "[encoded data removed]",
      "text/plain": [
       "<Figure size 900x500 with 1 Axes>"
      ]
     },
     "metadata": {
      "needs_background": "light"
     },
     "output_type": "display_data"
    }
   ],
   "source": [
    "ax=health_reddit.plot.scatter(x='score', y='num_comments',s=50,c='k',alpha=.5)\n",
    "ax.set_ylim((0, 170000))\n",
    "ax.set_ylim((0,10000))"
   ]
  },
  {
   "cell_type": "markdown",
   "id": "0608e4fc-d314-40a9-932b-c9ee9f074f96",
   "metadata": {},
   "source": [
    "##### Additional steps"
   ]
  },
  {
   "cell_type": "markdown",
   "id": "9e4b8258-73ef-4fe0-90dc-5ecf49686d3c",
   "metadata": {},
   "source": [
    "Adding a percentage to the comment and scores"
   ]
  },
  {
   "cell_type": "code",
   "execution_count": 91,
   "id": "7ec60b10-bc90-4f54-b05f-000611587cd9",
   "metadata": {},
   "outputs": [
    {
     "name": "stdout",
     "output_type": "stream",
     "text": [
      "        id                                            title  num_comments  \\\n",
      "0  1grtoqr    Trump picks RFK Jr., anti-vaccine activist...           264   \n",
      "1  1grm4dj  Want to live an extra 5 years? Those over 40...            30   \n",
      "2  1gru3ix  Want to live an extra 5 years? Those over 40...            67   \n",
      "\n",
      "   percentage_of_comments  \n",
      "0               73.130194  \n",
      "1                8.310249  \n",
      "2               18.559557  \n"
     ]
    }
   ],
   "source": [
    "import pandas as pd\n",
    "\n",
    "# Sample DataFrame (replace this with your actual DataFrame)\n",
    "data = {\n",
    "    'id': ['1grtoqr', '1grm4dj', '1gru3ix'],  # Ensure all lists have the same length\n",
    "    'title': ['Trump picks RFK Jr., anti-vaccine activist...', \n",
    "              'Want to live an extra 5 years? Those over 40...', \n",
    "              'Want to live an extra 5 years? Those over 40...'],  # Fixed length to match 'id'\n",
    "    'num_comments': [264, 30, 67],  # Fixed length to match 'id'\n",
    "}\n",
    "\n",
    "df = pd.DataFrame(data)\n",
    "\n",
    "# Calculate the total number of comments across all rows\n",
    "total_comments = df['num_comments'].sum()\n",
    "\n",
    "# Add a new column 'percentage_of_comments'\n",
    "df['percentage_of_comments'] = (df['num_comments'] / total_comments) * 100\n",
    "\n",
    "# Display the updated DataFrame\n",
    "print(df)\n",
    "\n",
    "\n"
   ]
  },
  {
   "cell_type": "code",
   "execution_count": 93,
   "id": "4c1f638e-f31d-45eb-a036-6cc20df87df7",
   "metadata": {},
   "outputs": [
    {
     "name": "stdout",
     "output_type": "stream",
     "text": [
      "        id                                            title  num_comments  \\\n",
      "0  1grtoqr    Trump picks RFK Jr., anti-vaccine activist...           264   \n",
      "1  1grm4dj  Want to live an extra 5 years? Those over 40...            30   \n",
      "2  1gru3ix  Want to live an extra 5 years? Those over 40...            67   \n",
      "\n",
      "   score  percentage_of_comments  percentage_of_scores  \n",
      "0    797               73.130194             72.851920  \n",
      "1     59                8.310249              5.393053  \n",
      "2    238               18.559557             21.755027  \n"
     ]
    }
   ],
   "source": [
    "import pandas as pd\n",
    "\n",
    "# Sample DataFrame (replace this with your actual DataFrame)\n",
    "data = {\n",
    "    'id': ['1grtoqr', '1grm4dj', '1gru3ix'],\n",
    "    'title': ['Trump picks RFK Jr., anti-vaccine activist...', \n",
    "              'Want to live an extra 5 years? Those over 40...', \n",
    "              'Want to live an extra 5 years? Those over 40...'],\n",
    "    'num_comments': [264, 30, 67],\n",
    "    'score': [797, 59, 238]  # Sample score data\n",
    "}\n",
    "\n",
    "df = pd.DataFrame(data)\n",
    "\n",
    "# Calculate the total number of comments\n",
    "total_comments = df['num_comments'].sum()\n",
    "\n",
    "# Calculate the total score\n",
    "total_score = df['score'].sum()\n",
    "\n",
    "# Add new columns for percentage of comments and scores\n",
    "df['percentage_of_comments'] = (df['num_comments'] / total_comments) * 100\n",
    "df['percentage_of_scores'] = (df['score'] / total_score) * 100\n",
    "\n",
    "# Display the updated DataFrame\n",
    "print(df)\n"
   ]
  },
  {
   "cell_type": "markdown",
   "id": "066200c2-82a9-47df-8e65-d5813bb530f8",
   "metadata": {},
   "source": [
    "#### Explanation\n",
    "Steps to prepare data:\n",
    "Steps to clean data:\n",
    "Steps in creating additional columns:"
   ]
  },
  {
   "cell_type": "markdown",
   "id": "ddc7e20d-28f9-420c-93ad-de80347da117",
   "metadata": {},
   "source": [
    "### Step 3 - Exploratory Data analysis\n"
   ]
  },
  {
   "cell_type": "code",
   "execution_count": 108,
   "id": "6c71fa13-d33c-407f-a804-cc4f0577f871",
   "metadata": {},
   "outputs": [
    {
     "name": "stdout",
     "output_type": "stream",
     "text": [
      "The sum of num_comments is: 10537\n",
      "The sum of score is: 72950\n"
     ]
    }
   ],
   "source": [
    "import pandas as pd\n",
    "\n",
    "# Load the dataset (replace 'your_dataset.csv' with your actual file path)\n",
    "df = pd.read_csv('health_reddit_data_with_dates_arrow.csv')\n",
    "\n",
    "# Sum a column, for example, 'Column_name'\n",
    "total_sum = df['num_comments'].sum()\n",
    "total_counts = df['score'].sum()\n",
    "\n",
    "print(\"The sum of num_comments is:\", total_sum)\n",
    "print(\"The sum of score is:\", total_counts)\n"
   ]
  },
  {
   "cell_type": "code",
   "execution_count": null,
   "id": "e04dadc5-5623-480a-9f84-de392301789c",
   "metadata": {},
   "outputs": [],
   "source": []
  },
  {
   "cell_type": "code",
   "execution_count": 85,
   "id": "3edf1222-e236-40c4-8a03-029d05b98443",
   "metadata": {},
   "outputs": [],
   "source": [
    "import seaborn as sns\n",
    "import matplotlib\n",
    "import matplotlib.pyplot as plt\n",
    "%matplotlib inline\n",
    "import numpy as np\n",
    "sns.set_style('darkgrid')\n",
    "matplotlib.rcParams['font.size'] = 14\n",
    "matplotlib.rcParams['figure.figsize'] = (9, 5)\n",
    "matplotlib.rcParams['figure.facecolor'] = '#00000000'"
   ]
  },
  {
   "cell_type": "markdown",
   "id": "aec09e4f-242c-424c-bf64-ea04609e5a94",
   "metadata": {},
   "source": [
    "#### Additional step\n",
    "\n",
    "###### Adding an index to the data set"
   ]
  },
  {
   "cell_type": "code",
   "execution_count": 39,
   "id": "e591620f-cd82-48ca-a79b-1ffc83a82d74",
   "metadata": {},
   "outputs": [],
   "source": []
  },
  {
   "cell_type": "code",
   "execution_count": 41,
   "id": "965fb13d-c26f-4ffa-9553-2afa3d135437",
   "metadata": {},
   "outputs": [],
   "source": []
  },
  {
   "cell_type": "code",
   "execution_count": 43,
   "id": "098ca31f-e4ed-4ee0-8d17-8e46725cfdf5",
   "metadata": {},
   "outputs": [],
   "source": [
    "\n"
   ]
  },
  {
   "cell_type": "code",
   "execution_count": 42,
   "id": "76d4f87f-4f19-45a7-9fa4-7f47ca8d9b82",
   "metadata": {},
   "outputs": [],
   "source": []
  },
  {
   "cell_type": "code",
   "execution_count": null,
   "id": "69dfb975-d980-48d9-9ddd-a2c304f124be",
   "metadata": {},
   "outputs": [],
   "source": []
  }
 ],
 "metadata": {
  "kernelspec": {
   "display_name": "Python 3 (ipykernel)",
   "language": "python",
   "name": "python3"
  },
  "language_info": {
   "codemirror_mode": {
    "name": "ipython",
    "version": 3
   },
   "file_extension": ".py",
   "mimetype": "text/x-python",
   "name": "python",
   "nbconvert_exporter": "python",
   "pygments_lexer": "ipython3",
   "version": "3.12.4"
  }
 },
 "nbformat": 4,
 "nbformat_minor": 5
}
