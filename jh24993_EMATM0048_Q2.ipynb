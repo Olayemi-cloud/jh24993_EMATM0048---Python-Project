{
 "cells": [
  {
   "cell_type": "markdown",
   "id": "4eea8071-8ca2-47c0-be1b-d37cd7c3e9ad",
   "metadata": {},
   "source": [
    "# SPDA SUMMATIVE ASSESSMENT QUESTION 2\n"
   ]
  },
  {
   "cell_type": "markdown",
   "id": "f83c2cb9-25c2-497e-8f89-07fb2e1e88f1",
   "metadata": {},
   "source": [
    "## Webscrapping Using Foursquare API\n"
   ]
  },
  {
   "cell_type": "markdown",
   "id": "e2f0b74c-acd1-4df0-9424-69dadd822187",
   "metadata": {},
   "source": [
    "### The neccesary libaries for this assigment is downlaoded"
   ]
  },
  {
   "cell_type": "markdown",
   "id": "4caed2ac-7244-41cc-884a-a52880449158",
   "metadata": {},
   "source": [
    "### Import libraries now\n"
   ]
  },
  {
   "cell_type": "code",
   "execution_count": 1,
   "id": "df8e5e76-2fdc-4b7a-ac41-5ab25aad0818",
   "metadata": {},
   "outputs": [
    {
     "name": "stdout",
     "output_type": "stream",
     "text": [
      "libraries imported.\n"
     ]
    }
   ],
   "source": [
    "import pandas as pd\n",
    "import numpy as np\n",
    "import json #library to handle JSON files\n",
    "import csv #library to handle CSV files\n",
    "import requests\n",
    "from bs4 import BeautifulSoup\n",
    "import folium\n",
    "print('libraries imported.')"
   ]
  },
  {
   "cell_type": "code",
   "execution_count": 34,
   "id": "3a398710-f1d7-45ea-916c-62a7d5947ba6",
   "metadata": {},
   "outputs": [
    {
     "name": "stdout",
     "output_type": "stream",
     "text": [
      "                        City\n",
      "0                     London\n",
      "1                     London\n",
      "2              West Midlands\n",
      "3   Yorkshire and the Humber\n",
      "4                   Scotland\n",
      "..                       ...\n",
      "71          Northern Ireland\n",
      "72                     Wales\n",
      "73        South West England\n",
      "74                     Wales\n",
      "75                     Wales\n",
      "\n",
      "[76 rows x 1 columns]\n"
     ]
    }
   ],
   "source": [
    "import requests\n",
    "from bs4 import BeautifulSoup\n",
    "import pandas as pd\n",
    "\n",
    "# Send the GET request to the Wikipedia page\n",
    "url = \"https://en.wikipedia.org/wiki/List_of_cities_in_the_United_Kingdom\"\n",
    "data = requests.get(url).text\n",
    "\n",
    "# Parse the data from HTML into a BeautifulSoup object\n",
    "soup = BeautifulSoup(data, 'html.parser')\n",
    "\n",
    "# Create a list to store city data\n",
    "cities_list = []\n",
    "\n",
    "# Find the table that lists cities (class 'wikitable' for the table structure)\n",
    "table = soup.find('table', {'class': 'wikitable'})\n",
    "\n",
    "# Loop through each row in the table and extract the city names\n",
    "for row in table.find_all('tr')[1:]:  # Skip the header row\n",
    "    cells = row.find_all('td')\n",
    "    if len(cells) > 0:\n",
    "        # The second column of the table contains the city name\n",
    "        city = cells[1].get_text(strip=True)  \n",
    "        cities_list.append(city)\n",
    "\n",
    "# Create a DataFrame from the list of cities\n",
    "cities_df = pd.DataFrame({\"City\": cities_list})\n",
    "\n",
    "# Display the first few rows of the DataFrame\n",
    "print(cities_df)\n"
   ]
  },
  {
   "cell_type": "code",
   "execution_count": 5,
   "id": "aebcc45f-81bc-40b7-bc00-f3c94d7a7d92",
   "metadata": {},
   "outputs": [],
   "source": [
    "# Paste your user_id below\n",
    "CLIENT_ID = 'E52Z4FQ2TCXGCYKNSTITCMVUSPWGRNFQEY1SC3KB2YYKOFGK' \n",
    "# Paste your token/password here\n",
    "CLIENT_SECRET = 'BNGXZQ45E14OGGY5MS10XENF1JE3GIJMPHNH4NBECPBTFKUE'\n",
    "# Add the current date \n",
    "VERSION = 20241109\n",
    "# The radius of 500 meters\n",
    "radius = 50000\n",
    "# Extract 100 venues per location\n",
    "LIMIT = 200"
   ]
  },
  {
   "cell_type": "code",
   "execution_count": 1,
   "id": "d43d8bca-f2f9-43fc-b1d9-deb03c46a03d",
   "metadata": {},
   "outputs": [
    {
     "name": "stdout",
     "output_type": "stream",
     "text": [
      "                       Name                       Address  \\\n",
      "0    Apple Pie Eating House                      Rydal Rd   \n",
      "1                 L'Enclume                  Cavendish St   \n",
      "2                  Dabbawal               1 Brentwood Ave   \n",
      "3        Riley's Fish Shack             King Edward's Bay   \n",
      "4    The Seaview Restaurant               Lower Promenade   \n",
      "..                      ...                           ...   \n",
      "195                  Asha's              12-22 Newhall St   \n",
      "196       The Drawing Board                 18 Newbold St   \n",
      "197        The Orchard Cafe  Worcester Countryside Centre   \n",
      "198       Lambs of Sheep St                   12 Sheep St   \n",
      "199           Horse & Groom           Bourton on the Hill   \n",
      "\n",
      "                 Locality               Region Postal Code Country   Latitude  \\\n",
      "0               Ambleside              Cumbria    LA22 9AN      GB  54.432846   \n",
      "1                 Cartmel              Cumbria    LA11 6PZ      GB  54.201736   \n",
      "2                 Jesmond  Newcastle upon Tyne     NE2 3DH      GB  54.991801   \n",
      "3           North Shields           N Tyneside    NE30 4BY      GB  55.018633   \n",
      "4     Saltburn-by-the-Sea                 None    TS12 1HQ      GB  54.586036   \n",
      "..                    ...                  ...         ...     ...        ...   \n",
      "195            Birmingham        West Midlands      B3 3LX      GB  52.481227   \n",
      "196  Royal Leamington Spa         Warwickshire    CV32 4HN      GB  52.289395   \n",
      "197             Worcester       Worcestershire     WR5 2LG      GB  52.187009   \n",
      "198   Stratford-upon-Avon         Warwickshire    CV37 6EF      GB  52.191428   \n",
      "199      Moreton in Marsh      Gloucestershire    GL56 9AQ      GB  51.991347   \n",
      "\n",
      "     Longitude              Category  Distance (m)  Review Count  \\\n",
      "0    -2.963530                Bakery         40082             0   \n",
      "1    -2.953759    English Restaurant         64080             0   \n",
      "2    -1.608648     Indian Restaurant         74160             0   \n",
      "3    -1.420533  Fast Food Restaurant         86458             0   \n",
      "4    -0.970221   Fish and Chips Shop        112491             0   \n",
      "..         ...                   ...           ...           ...   \n",
      "195  -1.901983     Indian Restaurant        258378             0   \n",
      "196  -1.531442              Wine Bar        284918             0   \n",
      "197  -2.179924                  Café        287762             0   \n",
      "198  -1.705564            Restaurant        292666             0   \n",
      "199  -1.748543                   Bar        313812             0   \n",
      "\n",
      "     Check-in Count  \n",
      "0                 0  \n",
      "1                 0  \n",
      "2                 0  \n",
      "3                 0  \n",
      "4                 0  \n",
      "..              ...  \n",
      "195               0  \n",
      "196               0  \n",
      "197               0  \n",
      "198               0  \n",
      "199               0  \n",
      "\n",
      "[200 rows x 12 columns]\n"
     ]
    }
   ],
   "source": [
    "import requests\n",
    "import pandas as pd\n",
    "\n",
    "# Replace with your Foursquare API Key\n",
    "API_KEY = 'fsq35nCNwv3KvH+yx6PumbUOoShohRCgucomGm3pnEMv92E='\n",
    "url = 'https://api.foursquare.com/v3/places/search'\n",
    "\n",
    "# Define the query parameters\n",
    "params = {\n",
    "    \"query\": \"restaurant\",\n",
    "    \"near\": \"United Kingdom\",\n",
    "    \"limit\": 50,   # Foursquare Places API limits to 50 per request\n",
    "    \"categories\": \"13065\",  # Foursquare category ID for \"Restaurant\"\n",
    "}\n",
    "\n",
    "# Define the headers, including the API key\n",
    "headers = {\n",
    "    \"Authorization\": API_KEY,\n",
    "    \"Accept\": \"application/json\"\n",
    "}\n",
    "\n",
    "# Function to make API requests and gather data\n",
    "def get_restaurants_data():\n",
    "    all_restaurants = []\n",
    "    for offset in range(0, 200, 50):  # Fetch up to 200 results in batches of 50\n",
    "        params[\"offset\"] = offset\n",
    "        response = requests.get(url, headers=headers, params=params)\n",
    "        \n",
    "        if response.status_code == 200:\n",
    "            restaurants = response.json().get(\"results\", [])\n",
    "            all_restaurants.extend(restaurants)\n",
    "        else:\n",
    "            print(f\"Error: {response.status_code}\")\n",
    "            break  # Stop if there is an error in the response\n",
    "    \n",
    "    return all_restaurants\n",
    "\n",
    "# Extract data and process it into a DataFrame\n",
    "restaurants_data = get_restaurants_data()\n",
    "\n",
    "# Prepare DataFrame with the essential 12 columns\n",
    "data = {\n",
    "    \"Name\": [restaurant.get(\"name\") for restaurant in restaurants_data],\n",
    "    \"Address\": [restaurant.get(\"location\", {}).get(\"address\") for restaurant in restaurants_data],\n",
    "    \"Locality\": [restaurant.get(\"location\", {}).get(\"locality\") for restaurant in restaurants_data],\n",
    "    \"Region\": [restaurant.get(\"location\", {}).get(\"region\") for restaurant in restaurants_data],\n",
    "    \"Postal Code\": [restaurant.get(\"location\", {}).get(\"postcode\") for restaurant in restaurants_data],\n",
    "    \"Country\": [restaurant.get(\"location\", {}).get(\"country\") for restaurant in restaurants_data],\n",
    "    \"Latitude\": [restaurant.get(\"geocodes\", {}).get(\"main\", {}).get(\"latitude\") for restaurant in restaurants_data],\n",
    "    \"Longitude\": [restaurant.get(\"geocodes\", {}).get(\"main\", {}).get(\"longitude\") for restaurant in restaurants_data],\n",
    "    \"Category\": [restaurant.get(\"categories\")[0][\"name\"] if restaurant.get(\"categories\") else None for restaurant in restaurants_data],\n",
    "    \"Distance (m)\": [restaurant.get(\"distance\", None) for restaurant in restaurants_data],\n",
    "    \n",
    "    # Add Review Count and Check-in Count\n",
    "    \"Review Count\": [restaurant.get(\"stats\", {}).get(\"totalReviews\", 0) for restaurant in restaurants_data],\n",
    "    \"Check-in Count\": [restaurant.get(\"stats\", {}).get(\"checkinsCount\", 0) for restaurant in restaurants_data],\n",
    "}\n",
    "\n",
    "# Create a DataFrame with the extracted data\n",
    "df_restaurants = pd.DataFrame(data)\n",
    "\n",
    "# Display the data\n",
    "print(df_restaurants)\n",
    "\n",
    "#Save the DataFrame to a CSV file for later use\n",
    "df_restaurants.to_csv(\"restaurants_with_reviews_and_checkins.csv\", index=False)\n"
   ]
  },
  {
   "cell_type": "code",
   "execution_count": null,
   "id": "9c653591-8c82-4855-b25a-8b2dedf1b444",
   "metadata": {},
   "outputs": [],
   "source": []
  }
 ],
 "metadata": {
  "kernelspec": {
   "display_name": "Python 3 (ipykernel)",
   "language": "python",
   "name": "python3"
  },
  "language_info": {
   "codemirror_mode": {
    "name": "ipython",
    "version": 3
   },
   "file_extension": ".py",
   "mimetype": "text/x-python",
   "name": "python",
   "nbconvert_exporter": "python",
   "pygments_lexer": "ipython3",
   "version": "3.12.4"
  }
 },
 "nbformat": 4,
 "nbformat_minor": 5
}
