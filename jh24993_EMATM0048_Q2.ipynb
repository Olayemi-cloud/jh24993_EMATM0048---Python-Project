{
 "cells": [
  {
   "cell_type": "markdown",
   "id": "4eea8071-8ca2-47c0-be1b-d37cd7c3e9ad",
   "metadata": {},
   "source": [
    "# SPDA SUMMATIVE ASSESSMENT QUESTION 2\n"
   ]
  },
  {
   "cell_type": "markdown",
   "id": "f83c2cb9-25c2-497e-8f89-07fb2e1e88f1",
   "metadata": {},
   "source": [
    "## Webscrapping Using Reddit API\n"
   ]
  },
  {
   "cell_type": "markdown",
   "id": "e2f0b74c-acd1-4df0-9424-69dadd822187",
   "metadata": {},
   "source": [
    "### The neccesary libaries for this assigment is downlaoded"
   ]
  },
  {
   "cell_type": "code",
   "execution_count": 13,
   "id": "df8e5e76-2fdc-4b7a-ac41-5ab25aad0818",
   "metadata": {},
   "outputs": [
    {
     "name": "stdout",
     "output_type": "stream",
     "text": [
      "Authenticated as: Life_Hat1137\n"
     ]
    }
   ],
   "source": [
    "import praw\n",
    "\n",
    "# Authenticate as a specific user\n",
    "reddit = praw.Reddit(\n",
    "    client_id=\"5Wv14SUqGs8ETZ8inzjcMg\",\n",
    "    client_secret=\"0zUUYuMLM2vBe2-XVIExAqochF5gQQ\",\n",
    "    user_agent=\"windows:my_app:1.0 (by /u/Life_Hat1137)\",\n",
    "    username=\"Life_Hat1137\",  # Your Reddit username\n",
    "    password=\"Ola07061193131\"  # Your Reddit password\n",
    ")\n",
    "\n",
    "print(\"Authenticated as:\", reddit.user.me())\n"
   ]
  },
  {
   "cell_type": "code",
   "execution_count": 16,
   "id": "e5cd3ddb-103c-47d2-aba7-c72ee4359f56",
   "metadata": {},
   "outputs": [
    {
     "name": "stdout",
     "output_type": "stream",
     "text": [
      "        id                                              title  num_comments  \\\n",
      "0  1grfl90  Trump picks RFK Jr. , anti-vaccine activist, f...           249   \n",
      "1  1grm4dj  Want to live an extra 5 years? Those over 40 s...            53   \n",
      "2  1grifuq  With Trump coming into power, the NIH is in th...            24   \n",
      "3  1grkkal  Winter Haven commissioners vote to remove fluo...            62   \n",
      "4  1gru3ix  The First Crispr Treatment Is Making Its Way t...             1   \n",
      "\n",
      "   score  upvote_ratio       domain  gilded  num_crossposts   nsfw  \\\n",
      "0    757          0.89  nbcnews.com       0               3  False   \n",
      "1    194          0.93  cbsnews.com       0               1  False   \n",
      "2    178          0.97      npr.org       0               0  False   \n",
      "3    130          0.92     wfla.com       0               0  False   \n",
      "4     14          0.95    wired.com       0               0  False   \n",
      "\n",
      "              author subreddit  \n",
      "0            nbcnews    Health  \n",
      "1  wonderingsocrates    Health  \n",
      "2            newzee1    Health  \n",
      "3            newzee1    Health  \n",
      "4      wiredmagazine    Health  \n"
     ]
    }
   ],
   "source": [
    "import praw\n",
    "import pandas as pd\n",
    "\n",
    "# List to store submission data\n",
    "health_submissions = []\n",
    "\n",
    "# Get submissions from r/health\n",
    "for submission in reddit.subreddit('health').hot(limit=500):  # You can adjust the limit\n",
    "    d = {}\n",
    "    d['id'] = submission.id\n",
    "    d['title'] = submission.title\n",
    "    d['num_comments'] = submission.num_comments\n",
    "    d['score'] = submission.score\n",
    "    d['upvote_ratio'] = submission.upvote_ratio\n",
    "    d['domain'] = submission.domain\n",
    "    d['gilded'] = submission.gilded\n",
    "    d['num_crossposts'] = submission.num_crossposts\n",
    "    d['nsfw'] = submission.over_18\n",
    "    d['author'] = submission.author.name if submission.author else None\n",
    "    d['subreddit'] = submission.subreddit.display_name\n",
    "    health_submissions.append(d)\n",
    "\n",
    "# Convert to DataFrame for easier analysis\n",
    "df = pd.DataFrame(health_submissions)\n",
    "\n",
    "# Display the first few rows\n",
    "print(df.head())\n",
    "\n",
    "# Optionally, save to a CSV file\n",
    "df.to_csv('health_reddit_data.csv', index=False)\n",
    "\n"
   ]
  },
  {
   "cell_type": "code",
   "execution_count": 22,
   "id": "7ac9ca5b-24de-4b7e-bf06-5f01e01e8589",
   "metadata": {},
   "outputs": [
    {
     "name": "stdout",
     "output_type": "stream",
     "text": [
      "Number of rows: 426\n",
      "Number of columns: 11\n"
     ]
    }
   ],
   "source": [
    "# Assuming 'df' is your DataFrame\n",
    "rows, columns = df.shape\n",
    "\n",
    "# Print number of rows and columns\n",
    "print(f\"Number of rows: {rows}\")\n",
    "print(f\"Number of columns: {columns}\")\n",
    "\n",
    "\n"
   ]
  },
  {
   "cell_type": "markdown",
   "id": "3eacd6b9-eb39-4ac7-8ecd-9bf6ab167b71",
   "metadata": {},
   "source": [
    "#### Remove the rows that has missing data"
   ]
  },
  {
   "cell_type": "markdown",
   "id": "4af2795e-87df-4cc3-b911-5cfb59db4edf",
   "metadata": {},
   "source": [
    "#### Remove the column that has a percentage of 50% missing values"
   ]
  },
  {
   "cell_type": "markdown",
   "id": "00dcd3b5-affb-4739-8a2c-ce32f3b9f9f1",
   "metadata": {},
   "source": [
    "#### Handling Outliers\n",
    "##### The data showes no outliers"
   ]
  },
  {
   "cell_type": "markdown",
   "id": "aec09e4f-242c-424c-bf64-ea04609e5a94",
   "metadata": {},
   "source": [
    "#### Additional step\n",
    "\n",
    "###### Adding an index to the data set"
   ]
  },
  {
   "cell_type": "code",
   "execution_count": 39,
   "id": "e591620f-cd82-48ca-a79b-1ffc83a82d74",
   "metadata": {},
   "outputs": [],
   "source": []
  },
  {
   "cell_type": "code",
   "execution_count": 41,
   "id": "965fb13d-c26f-4ffa-9553-2afa3d135437",
   "metadata": {},
   "outputs": [],
   "source": []
  },
  {
   "cell_type": "code",
   "execution_count": 43,
   "id": "098ca31f-e4ed-4ee0-8d17-8e46725cfdf5",
   "metadata": {},
   "outputs": [],
   "source": [
    "\n"
   ]
  },
  {
   "cell_type": "code",
   "execution_count": 42,
   "id": "76d4f87f-4f19-45a7-9fa4-7f47ca8d9b82",
   "metadata": {},
   "outputs": [],
   "source": []
  },
  {
   "cell_type": "code",
   "execution_count": null,
   "id": "69dfb975-d980-48d9-9ddd-a2c304f124be",
   "metadata": {},
   "outputs": [],
   "source": []
  }
 ],
 "metadata": {
  "kernelspec": {
   "display_name": "Python 3 (ipykernel)",
   "language": "python",
   "name": "python3"
  },
  "language_info": {
   "codemirror_mode": {
    "name": "ipython",
    "version": 3
   },
   "file_extension": ".py",
   "mimetype": "text/x-python",
   "name": "python",
   "nbconvert_exporter": "python",
   "pygments_lexer": "ipython3",
   "version": "3.12.4"
  }
 },
 "nbformat": 4,
 "nbformat_minor": 5
}
