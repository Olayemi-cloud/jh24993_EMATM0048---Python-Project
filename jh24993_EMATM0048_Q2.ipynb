{
 "cells": [
  {
   "cell_type": "markdown",
   "id": "4eea8071-8ca2-47c0-be1b-d37cd7c3e9ad",
   "metadata": {},
   "source": [
    "# SPDA SUMMATIVE ASSESSMENT QUESTION 2\n"
   ]
  },
  {
   "cell_type": "markdown",
   "id": "f83c2cb9-25c2-497e-8f89-07fb2e1e88f1",
   "metadata": {},
   "source": [
    "## Webscrapping Using Foursquare API\n"
   ]
  },
  {
   "cell_type": "markdown",
   "id": "e2f0b74c-acd1-4df0-9424-69dadd822187",
   "metadata": {},
   "source": [
    "### The neccesary libaries for this assigment is downlaoded"
   ]
  },
  {
   "cell_type": "code",
   "execution_count": 3,
   "id": "df8e5e76-2fdc-4b7a-ac41-5ab25aad0818",
   "metadata": {},
   "outputs": [
    {
     "name": "stdout",
     "output_type": "stream",
     "text": [
      "libraries imported.\n"
     ]
    }
   ],
   "source": [
    "import pandas as pd\n",
    "import numpy as np\n",
    "import json #library to handle JSON files\n",
    "import csv #library to handle CSV files\n",
    "import requests\n",
    "from bs4 import BeautifulSoup\n",
    "import folium\n",
    "print('libraries imported.')"
   ]
  },
  {
   "cell_type": "code",
   "execution_count": 5,
   "id": "3a398710-f1d7-45ea-916c-62a7d5947ba6",
   "metadata": {},
   "outputs": [
    {
     "name": "stdout",
     "output_type": "stream",
     "text": [
      "                        City\n",
      "0                     London\n",
      "1                     London\n",
      "2              West Midlands\n",
      "3   Yorkshire and the Humber\n",
      "4                   Scotland\n",
      "..                       ...\n",
      "71          Northern Ireland\n",
      "72                     Wales\n",
      "73        South West England\n",
      "74                     Wales\n",
      "75                     Wales\n",
      "\n",
      "[76 rows x 1 columns]\n"
     ]
    }
   ],
   "source": [
    "import requests\n",
    "from bs4 import BeautifulSoup\n",
    "\n",
    "# Send the GET request to the Wikipedia page\n",
    "url = \"https://en.wikipedia.org/wiki/List_of_cities_in_the_United_Kingdom\"\n",
    "data = requests.get(url).text\n",
    "\n",
    "# Parse the data from HTML into a BeautifulSoup object\n",
    "soup = BeautifulSoup(data, 'html.parser')\n",
    "\n",
    "# Create a list to store city data\n",
    "cities_list = []\n",
    "\n",
    "# Find the table that lists cities (class 'wikitable' for the table structure)\n",
    "table = soup.find('table', {'class': 'wikitable'})\n",
    "\n",
    "# Loop through each row in the table and extract the city names\n",
    "for row in table.find_all('tr')[1:]:  # Skip the header row\n",
    "    cells = row.find_all('td')\n",
    "    if len(cells) > 0:\n",
    "        # The second column of the table contains the city name\n",
    "        city = cells[1].get_text(strip=True)  \n",
    "        cities_list.append(city)\n",
    "\n",
    "# Create a DataFrame from the list of cities\n",
    "cities_df = pd.DataFrame({\"City\": cities_list})\n",
    "\n",
    "# Display the first few rows of the DataFrame\n",
    "print(cities_df)\n"
   ]
  },
  {
   "cell_type": "code",
   "execution_count": 7,
   "id": "aebcc45f-81bc-40b7-bc00-f3c94d7a7d92",
   "metadata": {},
   "outputs": [],
   "source": [
    "# Paste your user_id below\n",
    "CLIENT_ID = 'E52Z4FQ2TCXGCYKNSTITCMVUSPWGRNFQEY1SC3KB2YYKOFGK' \n",
    "# Paste your token/password here\n",
    "CLIENT_SECRET = 'BNGXZQ45E14OGGY5MS10XENF1JE3GIJMPHNH4NBECPBTFKUE'\n",
    "# Add the current date \n",
    "VERSION = 20241109\n",
    "# The radius of 500 meters\n",
    "radius = 50000\n",
    "# Extract 100 venues per location\n",
    "LIMIT = 200"
   ]
  },
  {
   "cell_type": "code",
   "execution_count": 8,
   "id": "d43d8bca-f2f9-43fc-b1d9-deb03c46a03d",
   "metadata": {},
   "outputs": [],
   "source": [
    "import requests\n",
    "import pandas as pd\n",
    "\n",
    "# Replace with your Foursquare API Key\n",
    "API_KEY = 'fsq35nCNwv3KvH+yx6PumbUOoShohRCgucomGm3pnEMv92E='\n",
    "url = 'https://api.foursquare.com/v3/places/search'\n",
    "\n",
    "# Define the query parameters\n",
    "params = {\n",
    "    \"query\": \"restaurant\",\n",
    "    \"near\": \"United Kingdom\",\n",
    "    \"limit\": 50,   # Foursquare Places API limits to 50 per request\n",
    "    \"categories\": \"13065\",  # Foursquare category ID for \"Restaurant\"\n",
    "}\n",
    "\n",
    "# Define the headers, including the API key\n",
    "headers = {\n",
    "    \"Authorization\": API_KEY,\n",
    "    \"Accept\": \"application/json\"\n",
    "}\n",
    "\n",
    "# Function to make API requests and gather data\n",
    "def get_restaurants_data():\n",
    "    all_restaurants = []\n",
    "    for offset in range(0, 200, 50):  # Fetch up to 200 results in batches of 50\n",
    "        params[\"offset\"] = offset\n",
    "        response = requests.get(url, headers=headers, params=params)\n",
    "        \n",
    "        if response.status_code == 200:\n",
    "            restaurants = response.json().get(\"results\", [])\n",
    "            all_restaurants.extend(restaurants)\n",
    "        else:\n",
    "            print(f\"Error: {response.status_code}\")\n",
    "            break  # Stop if there is an error in the response\n",
    "    \n",
    "    return all_restaurants\n",
    "\n",
    "# Extract data and process it into a DataFrame\n",
    "restaurants_data = get_restaurants_data()\n",
    "\n",
    "# Prepare DataFrame with the essential 12 columns\n",
    "data = {\n",
    "    \"Name\": [restaurant.get(\"name\") for restaurant in restaurants_data],\n",
    "    \"Address\": [restaurant.get(\"location\", {}).get(\"address\") for restaurant in restaurants_data],\n",
    "    \"Locality\": [restaurant.get(\"location\", {}).get(\"locality\") for restaurant in restaurants_data],\n",
    "    \"Region\": [restaurant.get(\"location\", {}).get(\"region\") for restaurant in restaurants_data],\n",
    "    \"Postal Code\": [restaurant.get(\"location\", {}).get(\"postcode\") for restaurant in restaurants_data],\n",
    "    \"Country\": [restaurant.get(\"location\", {}).get(\"country\") for restaurant in restaurants_data],\n",
    "    \"Latitude\": [restaurant.get(\"geocodes\", {}).get(\"main\", {}).get(\"latitude\") for restaurant in restaurants_data],\n",
    "    \"Longitude\": [restaurant.get(\"geocodes\", {}).get(\"main\", {}).get(\"longitude\") for restaurant in restaurants_data],\n",
    "    \"Category\": [restaurant.get(\"categories\")[0][\"name\"] if restaurant.get(\"categories\") else None for restaurant in restaurants_data],\n",
    "    \"Distance (m)\": [restaurant.get(\"distance\", None) for restaurant in restaurants_data],\n",
    "    \n",
    "    # Add Review Count and Check-in Count\n",
    "    \"Review Count\": [restaurant.get(\"stats\", {}).get(\"totalReviews\", 0) for restaurant in restaurants_data],\n",
    "    \"Check-in Count\": [restaurant.get(\"stats\", {}).get(\"checkinsCount\", 0) for restaurant in restaurants_data],\n",
    "}\n",
    "\n"
   ]
  },
  {
   "cell_type": "markdown",
   "id": "0c378368-ad5f-4e0b-b872-c28bcbd9e096",
   "metadata": {},
   "source": [
    "## Load dataset into the dataframe\n"
   ]
  },
  {
   "cell_type": "code",
   "execution_count": 10,
   "id": "9c653591-8c82-4855-b25a-8b2dedf1b444",
   "metadata": {},
   "outputs": [
    {
     "name": "stdout",
     "output_type": "stream",
     "text": [
      "                       Name                       Address  \\\n",
      "0    Apple Pie Eating House                      Rydal Rd   \n",
      "1                 L'Enclume                  Cavendish St   \n",
      "2                  Dabbawal               1 Brentwood Ave   \n",
      "3        Riley's Fish Shack             King Edward's Bay   \n",
      "4    The Seaview Restaurant               Lower Promenade   \n",
      "..                      ...                           ...   \n",
      "195                  Asha's              12-22 Newhall St   \n",
      "196       The Drawing Board                 18 Newbold St   \n",
      "197        The Orchard Cafe  Worcester Countryside Centre   \n",
      "198       Lambs of Sheep St                   12 Sheep St   \n",
      "199           Horse & Groom           Bourton on the Hill   \n",
      "\n",
      "                 Locality               Region Postal Code Country   Latitude  \\\n",
      "0               Ambleside              Cumbria    LA22 9AN      GB  54.432846   \n",
      "1                 Cartmel              Cumbria    LA11 6PZ      GB  54.201736   \n",
      "2                 Jesmond  Newcastle upon Tyne     NE2 3DH      GB  54.991801   \n",
      "3           North Shields           N Tyneside    NE30 4BY      GB  55.018633   \n",
      "4     Saltburn-by-the-Sea                 None    TS12 1HQ      GB  54.586036   \n",
      "..                    ...                  ...         ...     ...        ...   \n",
      "195            Birmingham        West Midlands      B3 3LX      GB  52.481227   \n",
      "196  Royal Leamington Spa         Warwickshire    CV32 4HN      GB  52.289395   \n",
      "197             Worcester       Worcestershire     WR5 2LG      GB  52.187009   \n",
      "198   Stratford-upon-Avon         Warwickshire    CV37 6EF      GB  52.191428   \n",
      "199      Moreton in Marsh      Gloucestershire    GL56 9AQ      GB  51.991347   \n",
      "\n",
      "     Longitude              Category  Distance (m)  Review Count  \\\n",
      "0    -2.963530                Bakery         40082             0   \n",
      "1    -2.953759    English Restaurant         64080             0   \n",
      "2    -1.608648     Indian Restaurant         74160             0   \n",
      "3    -1.420533  Fast Food Restaurant         86458             0   \n",
      "4    -0.970221   Fish and Chips Shop        112491             0   \n",
      "..         ...                   ...           ...           ...   \n",
      "195  -1.901983     Indian Restaurant        258378             0   \n",
      "196  -1.531442              Wine Bar        284918             0   \n",
      "197  -2.179924                  Café        287762             0   \n",
      "198  -1.705564            Restaurant        292666             0   \n",
      "199  -1.748543                   Bar        313812             0   \n",
      "\n",
      "     Check-in Count  \n",
      "0                 0  \n",
      "1                 0  \n",
      "2                 0  \n",
      "3                 0  \n",
      "4                 0  \n",
      "..              ...  \n",
      "195               0  \n",
      "196               0  \n",
      "197               0  \n",
      "198               0  \n",
      "199               0  \n",
      "\n",
      "[200 rows x 12 columns]\n"
     ]
    }
   ],
   "source": [
    "import pandas as pd\n",
    "\n",
    "# Create a DataFrame with the extracted data\n",
    "df_restaurants = pd.DataFrame(data)\n",
    "\n",
    "# Display the data\n",
    "print(df_restaurants)\n",
    "\n",
    "#Save the DataFrame to a CSV file for later use\n",
    "df_restaurants.to_csv(\"restaurants_with_reviews_and_checkins.csv\", index=False)\n",
    "\n"
   ]
  },
  {
   "cell_type": "markdown",
   "id": "f161a6d6-561a-4992-9ff9-1c6b8b50ea19",
   "metadata": {},
   "source": [
    "## Handling missing data\n"
   ]
  },
  {
   "cell_type": "code",
   "execution_count": 13,
   "id": "4f53733c-12d7-4a31-834b-49aa22cc200c",
   "metadata": {},
   "outputs": [
    {
     "name": "stdout",
     "output_type": "stream",
     "text": [
      "Total missing values: 68\n"
     ]
    }
   ],
   "source": [
    "# Load your dataset\n",
    "df = pd.read_csv('restaurants_with_reviews_and_checkins.csv')\n",
    "\n",
    "total_missing = df.isnull().sum().sum()\n",
    "print(f\"Total missing values: {total_missing}\")\n"
   ]
  },
  {
   "cell_type": "markdown",
   "id": "3eacd6b9-eb39-4ac7-8ecd-9bf6ab167b71",
   "metadata": {},
   "source": [
    "#### Remove the rows that has missing data"
   ]
  },
  {
   "cell_type": "code",
   "execution_count": 15,
   "id": "0d7e7df4-4f5b-4895-8edb-fab26ba0a59c",
   "metadata": {},
   "outputs": [],
   "source": [
    "df.dropna(inplace=True)"
   ]
  },
  {
   "cell_type": "markdown",
   "id": "4af2795e-87df-4cc3-b911-5cfb59db4edf",
   "metadata": {},
   "source": [
    "#### Remove the column that has a percentage of 50% missing values"
   ]
  },
  {
   "cell_type": "code",
   "execution_count": 17,
   "id": "f67e73c9-14b2-4401-a1fa-f0c2c6b94404",
   "metadata": {},
   "outputs": [],
   "source": [
    "# Define the percentage threshold for missing values\n",
    "missing_value_threshold = 0.5  # 50%\n",
    "\n",
    "# Drop columns with more than 50% missing values\n",
    "df.dropna(thresh=int(len(df) * (1 - missing_value_threshold)), axis=1, inplace=True)\n"
   ]
  },
  {
   "cell_type": "markdown",
   "id": "00dcd3b5-affb-4739-8a2c-ce32f3b9f9f1",
   "metadata": {},
   "source": [
    "#### Handling Outliers\n",
    "##### The data showes no outliers"
   ]
  },
  {
   "cell_type": "code",
   "execution_count": 19,
   "id": "451b8ebe-bcc8-4a86-9c02-71de97979bb6",
   "metadata": {},
   "outputs": [
    {
     "data": {
      "image/png": "[encoded data removed]",
      "text/plain": [
       "<Figure size 640x480 with 1 Axes>"
      ]
     },
     "metadata": {},
     "output_type": "display_data"
    }
   ],
   "source": [
    "import matplotlib.pyplot as plt\n",
    "import seaborn as sns\n",
    "\n",
    "# Example: Plot a boxplot for each column to spot outliers\n",
    "sns.boxplot(data=df)\n",
    "plt.show()"
   ]
  },
  {
   "cell_type": "markdown",
   "id": "aec09e4f-242c-424c-bf64-ea04609e5a94",
   "metadata": {},
   "source": [
    "#### Additional step\n",
    "\n",
    "###### Adding an index to the data set"
   ]
  },
  {
   "cell_type": "code",
   "execution_count": 23,
   "id": "06d0c1ca-a542-4cf1-a974-5efc34b1ac54",
   "metadata": {},
   "outputs": [],
   "source": [
    "df = df.reset_index(drop=True)"
   ]
  },
  {
   "cell_type": "code",
   "execution_count": 27,
   "id": "d648aee0-82fd-47b3-97d3-3751c68feed0",
   "metadata": {},
   "outputs": [
    {
     "name": "stdout",
     "output_type": "stream",
     "text": [
      "Latitude              54.012997\n",
      "Longitude             -2.498530\n",
      "Distance (m)      180367.205882\n",
      "Review Count           0.000000\n",
      "Check-in Count         0.000000\n",
      "dtype: float64\n"
     ]
    }
   ],
   "source": [
    "# Calculate mean for numeric columns in the DataFrame\n",
    "mean_values = df.mean(numeric_only=True)\n",
    "print(mean_values)"
   ]
  },
  {
   "cell_type": "code",
   "execution_count": 29,
   "id": "e88ad7d8-0f71-4487-9167-0c35b8877515",
   "metadata": {},
   "outputs": [
    {
     "name": "stdout",
     "output_type": "stream",
     "text": [
      "Mean Distance: 180367.20588235295\n"
     ]
    }
   ],
   "source": [
    "# Calculate the mean for the \"Distance (m)\" column\n",
    "mean_distance = df[\"Distance (m)\"].mean()\n",
    "print(f\"Mean Distance: {mean_distance}\")"
   ]
  },
  {
   "cell_type": "code",
   "execution_count": 31,
   "id": "2efcf66d-3927-497c-a6c4-e084abf93200",
   "metadata": {},
   "outputs": [
    {
     "name": "stdout",
     "output_type": "stream",
     "text": [
      "Total Distance: 24529940\n"
     ]
    }
   ],
   "source": [
    "total_distance = df[\"Distance (m)\"].sum()\n",
    "print(f\"Total Distance: {total_distance}\")"
   ]
  },
  {
   "cell_type": "code",
   "execution_count": 37,
   "id": "9916639d-4e2a-4c3e-9a71-9b1c49f43b66",
   "metadata": {},
   "outputs": [
    {
     "name": "stdout",
     "output_type": "stream",
     "text": [
      "Range of Distance: 273730\n"
     ]
    }
   ],
   "source": [
    "# Calculate the range of the \"Distance (m)\" column\n",
    "max_distance = df[\"Distance (m)\"].max()\n",
    "min_distance = df[\"Distance (m)\"].min()\n",
    "distance_range = max_distance - min_distance\n",
    "\n",
    "print(f\"Range of Distance: {distance_range}\")"
   ]
  },
  {
   "cell_type": "code",
   "execution_count": 51,
   "id": "fedf4d5f-b7bf-441f-b1b4-0efc6ba081bd",
   "metadata": {},
   "outputs": [],
   "source": [
    "min_distance = df[\"Distance (m)\"].min()\n",
    "max_distance = df[\"Distance (m)\"].max()"
   ]
  },
  {
   "cell_type": "code",
   "execution_count": 45,
   "id": "49c97896-6d8d-4dd0-a3da-e4ab5d5da55d",
   "metadata": {},
   "outputs": [
    {
     "name": "stderr",
     "output_type": "stream",
     "text": [
      "C:\\Users\\Admin\\anaconda3\\Lib\\site-packages\\numpy\\lib\\function_base.py:2897: RuntimeWarning: invalid value encountered in divide\n",
      "  c /= stddev[:, None]\n",
      "C:\\Users\\Admin\\anaconda3\\Lib\\site-packages\\numpy\\lib\\function_base.py:2898: RuntimeWarning: invalid value encountered in divide\n",
      "  c /= stddev[None, :]\n"
     ]
    }
   ],
   "source": [
    "correlation = df[\"Distance (m)\"].corr(df[\"Check-in Count\"])"
   ]
  },
  {
   "cell_type": "code",
   "execution_count": 35,
   "id": "fb611121-5885-4826-819b-525221456d89",
   "metadata": {},
   "outputs": [],
   "source": [
    "min_distance = df[\"Distance (m)\"].min()\n",
    "max_distance = df[\"Distance (m)\"].max()"
   ]
  },
  {
   "cell_type": "code",
   "execution_count": 39,
   "id": "e591620f-cd82-48ca-a79b-1ffc83a82d74",
   "metadata": {},
   "outputs": [],
   "source": []
  },
  {
   "cell_type": "code",
   "execution_count": 41,
   "id": "965fb13d-c26f-4ffa-9553-2afa3d135437",
   "metadata": {},
   "outputs": [],
   "source": []
  },
  {
   "cell_type": "code",
   "execution_count": 43,
   "id": "098ca31f-e4ed-4ee0-8d17-8e46725cfdf5",
   "metadata": {},
   "outputs": [],
   "source": [
    "\n"
   ]
  },
  {
   "cell_type": "code",
   "execution_count": 42,
   "id": "76d4f87f-4f19-45a7-9fa4-7f47ca8d9b82",
   "metadata": {},
   "outputs": [],
   "source": []
  },
  {
   "cell_type": "code",
   "execution_count": null,
   "id": "69dfb975-d980-48d9-9ddd-a2c304f124be",
   "metadata": {},
   "outputs": [],
   "source": []
  }
 ],
 "metadata": {
  "kernelspec": {
   "display_name": "Python 3 (ipykernel)",
   "language": "python",
   "name": "python3"
  },
  "language_info": {
   "codemirror_mode": {
    "name": "ipython",
    "version": 3
   },
   "file_extension": ".py",
   "mimetype": "text/x-python",
   "name": "python",
   "nbconvert_exporter": "python",
   "pygments_lexer": "ipython3",
   "version": "3.12.4"
  }
 },
 "nbformat": 4,
 "nbformat_minor": 5
}
