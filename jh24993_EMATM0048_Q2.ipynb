{
 "cells": [
  {
   "cell_type": "markdown",
   "id": "4eea8071-8ca2-47c0-be1b-d37cd7c3e9ad",
   "metadata": {},
   "source": [
    "# SPDA SUMMATIVE ASSESSMENT QUESTION 2\n"
   ]
  },
  {
   "cell_type": "markdown",
   "id": "f83c2cb9-25c2-497e-8f89-07fb2e1e88f1",
   "metadata": {},
   "source": [
    "## Webscrapping Using Reddit API\n"
   ]
  },
  {
   "cell_type": "markdown",
   "id": "e2f0b74c-acd1-4df0-9424-69dadd822187",
   "metadata": {},
   "source": [
    "The data was gotten from the Reddit website, under the r\\health session.\n",
    "\n",
    "The data consist of all the trending health topics being dicussed on the forum - r\\health from 10/2/2024 - 11/15/2024.\n",
    "\n",
    "This data is important to know the current health trends as it realtes to citizen joournalism. This data can inform writers and journalists on the key topics people are interested to know more about.\n",
    "\n",
    "The variables of interst includes -  'title'- which represents the trending topics, 'num_comments' - the total comments per topic, 'score - ',, 'author - the initiator of the topica which in this case includes news oulets like nbc news, ctvnews etc'\n",
    "\n",
    "Praw was installed using \"pip install praw\" to enable scrapping from the Reddit website. Praw is a Python wrapper for the Reddit API, which makes authentication and JSON parsing easy."
   ]
  },
  {
   "cell_type": "code",
   "execution_count": 19,
   "id": "df8e5e76-2fdc-4b7a-ac41-5ab25aad0818",
   "metadata": {},
   "outputs": [
    {
     "name": "stdout",
     "output_type": "stream",
     "text": [
      "Authenticated as: Life_Hat1137\n"
     ]
    }
   ],
   "source": [
    "import praw\n",
    "\n",
    "#Authentication\n",
    "reddit = praw.Reddit(\n",
    "    client_id=\"5Wv14SUqGs8ETZ8inzjcMg\",\n",
    "    client_secret=\"0zUUYuMLM2vBe2-XVIExAqochF5gQQ\",\n",
    "    user_agent=\"windows:my_app:1.0 (by /u/Life_Hat1137)\",\n",
    "    username=\"Life_Hat1137\",  # Your Reddit username\n",
    "    password=\"Ola07061193131\"  # Your Reddit password\n",
    ")\n",
    "\n",
    "print(\"Authenticated as:\", reddit.user.me())\n"
   ]
  },
  {
   "cell_type": "markdown",
   "id": "c849ae0e-0af3-4474-bb84-65e3478f6a6a",
   "metadata": {},
   "source": [
    "#### Step 2 - Perform data preparation/cleaning"
   ]
  },
  {
   "cell_type": "code",
   "execution_count": 147,
   "id": "3f5d2936-4541-4544-b5c0-5448478a7559",
   "metadata": {},
   "outputs": [],
   "source": [
    "import praw\n",
    "import pandas as pd\n",
    "import arrow\n",
    "\n",
    "#Submission data\n",
    "health_submissions = []\n",
    "\n",
    "#Submissions r/health\n",
    "for submission in reddit.subreddit('health').hot(limit=500):\n",
    "    d = {}\n",
    "    d['id'] = submission.id\n",
    "    d['title'] = submission.title\n",
    "    d['num_comments'] = submission.num_comments\n",
    "    d['score'] = submission.score\n",
    "    d['upvote_ratio'] = submission.upvote_ratio\n",
    "    d['domain'] = submission.domain\n",
    "    d['gilded'] = submission.gilded\n",
    "    d['num_crossposts'] = submission.num_crossposts\n",
    "    d['nsfw'] = submission.over_18\n",
    "    d['author'] = submission.author.name if submission.author else None\n",
    "    d['subreddit'] = submission.subreddit.display_name\n",
    "    \n",
    "    # Convert created_utc to clear date WITH arrow\n",
    "    d['date'] = arrow.get(submission.created_utc).format('YYYY-MM-DD')\n",
    "    \n",
    "    health_submissions.append(d)"
   ]
  },
  {
   "cell_type": "code",
   "execution_count": 151,
   "id": "03a7d51a-a0c2-4cfe-aebe-7e9c2be55163",
   "metadata": {},
   "outputs": [
    {
     "name": "stdout",
     "output_type": "stream",
     "text": [
      "        id                                              title  num_comments  \\\n",
      "0  1gs5t18  RFK Jr.’s to-do list to make America ‘healthy’...           156   \n",
      "1  1gs9t9i  CDC confirms Oregon’s first human case of bird...            25   \n",
      "2  1gsgbez  Prospect of RFK Jr. as head of HHS panics many...             4   \n",
      "3  1gsmvym  Vaccine shows promise against aggressive breas...             1   \n",
      "4  1gs4vxx  Cases of highly infectious and preventable mea...             3   \n",
      "\n",
      "   score  upvote_ratio              domain  gilded  num_crossposts   nsfw  \\\n",
      "0    461          0.92             cnn.com       0               0  False   \n",
      "1    194          0.97         nbcnews.com       0               0  False   \n",
      "2     41          0.87         science.org       0               0  False   \n",
      "3      6          1.00  medicine.washu.edu       0               0  False   \n",
      "4    143          0.98   independent.co.uk       0               0  False   \n",
      "\n",
      "                 author subreddit        date  \n",
      "0                   cnn    Health  2024-11-15  \n",
      "1               nbcnews    Health  2024-11-15  \n",
      "2             Exastiken    Health  2024-11-16  \n",
      "3        F0urLeafCl0ver    Health  2024-11-16  \n",
      "4  theindependentonline    Health  2024-11-15  \n"
     ]
    }
   ],
   "source": [
    "df = pd.DataFrame(health_submissions)\n",
    "\n",
    "print(df.head())\n",
    "\n",
    "df.to_csv('health_reddit_data_with_dates_arrow.csv', index=False)"
   ]
  },
  {
   "cell_type": "code",
   "execution_count": 25,
   "id": "7ac9ca5b-24de-4b7e-bf06-5f01e01e8589",
   "metadata": {
    "scrolled": true
   },
   "outputs": [
    {
     "name": "stdout",
     "output_type": "stream",
     "text": [
      "Number of rows: 418\n",
      "Number of columns: 12\n"
     ]
    }
   ],
   "source": [
    "rows, columns = df.shape\n",
    "\n",
    "print(f\"Number of rows: {rows}\")\n",
    "print(f\"Number of columns: {columns}\")"
   ]
  },
  {
   "cell_type": "code",
   "execution_count": 19,
   "id": "229b84ea-72f8-43ff-a549-ab9e97103dfa",
   "metadata": {},
   "outputs": [],
   "source": [
    "health_reddit = pd.read_csv('health_reddit_data_with_dates_arrow.csv')"
   ]
  },
  {
   "cell_type": "code",
   "execution_count": 21,
   "id": "e6c52ce9-b060-4e4b-aae0-7346f28a0d15",
   "metadata": {},
   "outputs": [
    {
     "data": {
      "text/html": [
       "<div>\n",
       "<style scoped>\n",
       "    .dataframe tbody tr th:only-of-type {\n",
       "        vertical-align: middle;\n",
       "    }\n",
       "\n",
       "    .dataframe tbody tr th {\n",
       "        vertical-align: top;\n",
       "    }\n",
       "\n",
       "    .dataframe thead th {\n",
       "        text-align: right;\n",
       "    }\n",
       "</style>\n",
       "<table border=\"1\" class=\"dataframe\">\n",
       "  <thead>\n",
       "    <tr style=\"text-align: right;\">\n",
       "      <th></th>\n",
       "      <th>id</th>\n",
       "      <th>title</th>\n",
       "      <th>num_comments</th>\n",
       "      <th>score</th>\n",
       "      <th>upvote_ratio</th>\n",
       "      <th>domain</th>\n",
       "      <th>gilded</th>\n",
       "      <th>num_crossposts</th>\n",
       "      <th>nsfw</th>\n",
       "      <th>author</th>\n",
       "      <th>subreddit</th>\n",
       "      <th>date</th>\n",
       "    </tr>\n",
       "  </thead>\n",
       "  <tbody>\n",
       "    <tr>\n",
       "      <th>0</th>\n",
       "      <td>1gs5t18</td>\n",
       "      <td>RFK Jr.’s to-do list to make America ‘healthy’...</td>\n",
       "      <td>156</td>\n",
       "      <td>461</td>\n",
       "      <td>0.92</td>\n",
       "      <td>cnn.com</td>\n",
       "      <td>0</td>\n",
       "      <td>0</td>\n",
       "      <td>False</td>\n",
       "      <td>cnn</td>\n",
       "      <td>Health</td>\n",
       "      <td>2024-11-15</td>\n",
       "    </tr>\n",
       "    <tr>\n",
       "      <th>1</th>\n",
       "      <td>1gs9t9i</td>\n",
       "      <td>CDC confirms Oregon’s first human case of bird...</td>\n",
       "      <td>25</td>\n",
       "      <td>194</td>\n",
       "      <td>0.97</td>\n",
       "      <td>nbcnews.com</td>\n",
       "      <td>0</td>\n",
       "      <td>0</td>\n",
       "      <td>False</td>\n",
       "      <td>nbcnews</td>\n",
       "      <td>Health</td>\n",
       "      <td>2024-11-15</td>\n",
       "    </tr>\n",
       "    <tr>\n",
       "      <th>2</th>\n",
       "      <td>1gsgbez</td>\n",
       "      <td>Prospect of RFK Jr. as head of HHS panics many...</td>\n",
       "      <td>4</td>\n",
       "      <td>41</td>\n",
       "      <td>0.87</td>\n",
       "      <td>science.org</td>\n",
       "      <td>0</td>\n",
       "      <td>0</td>\n",
       "      <td>False</td>\n",
       "      <td>Exastiken</td>\n",
       "      <td>Health</td>\n",
       "      <td>2024-11-16</td>\n",
       "    </tr>\n",
       "    <tr>\n",
       "      <th>3</th>\n",
       "      <td>1gsmvym</td>\n",
       "      <td>Vaccine shows promise against aggressive breas...</td>\n",
       "      <td>1</td>\n",
       "      <td>6</td>\n",
       "      <td>1.00</td>\n",
       "      <td>medicine.washu.edu</td>\n",
       "      <td>0</td>\n",
       "      <td>0</td>\n",
       "      <td>False</td>\n",
       "      <td>F0urLeafCl0ver</td>\n",
       "      <td>Health</td>\n",
       "      <td>2024-11-16</td>\n",
       "    </tr>\n",
       "    <tr>\n",
       "      <th>4</th>\n",
       "      <td>1gs4vxx</td>\n",
       "      <td>Cases of highly infectious and preventable mea...</td>\n",
       "      <td>3</td>\n",
       "      <td>143</td>\n",
       "      <td>0.98</td>\n",
       "      <td>independent.co.uk</td>\n",
       "      <td>0</td>\n",
       "      <td>0</td>\n",
       "      <td>False</td>\n",
       "      <td>theindependentonline</td>\n",
       "      <td>Health</td>\n",
       "      <td>2024-11-15</td>\n",
       "    </tr>\n",
       "    <tr>\n",
       "      <th>...</th>\n",
       "      <td>...</td>\n",
       "      <td>...</td>\n",
       "      <td>...</td>\n",
       "      <td>...</td>\n",
       "      <td>...</td>\n",
       "      <td>...</td>\n",
       "      <td>...</td>\n",
       "      <td>...</td>\n",
       "      <td>...</td>\n",
       "      <td>...</td>\n",
       "      <td>...</td>\n",
       "      <td>...</td>\n",
       "    </tr>\n",
       "    <tr>\n",
       "      <th>413</th>\n",
       "      <td>1fve31i</td>\n",
       "      <td>Ontario child dies from rabies after bat found...</td>\n",
       "      <td>234</td>\n",
       "      <td>1251</td>\n",
       "      <td>0.98</td>\n",
       "      <td>globalnews.ca</td>\n",
       "      <td>0</td>\n",
       "      <td>0</td>\n",
       "      <td>False</td>\n",
       "      <td>globalnewsca</td>\n",
       "      <td>Health</td>\n",
       "      <td>2024-10-03</td>\n",
       "    </tr>\n",
       "    <tr>\n",
       "      <th>414</th>\n",
       "      <td>1fw4ho0</td>\n",
       "      <td>WHO approves first mpox diagnostic test</td>\n",
       "      <td>0</td>\n",
       "      <td>13</td>\n",
       "      <td>0.88</td>\n",
       "      <td>dw.com</td>\n",
       "      <td>0</td>\n",
       "      <td>0</td>\n",
       "      <td>False</td>\n",
       "      <td>DoremusJessup</td>\n",
       "      <td>Health</td>\n",
       "      <td>2024-10-04</td>\n",
       "    </tr>\n",
       "    <tr>\n",
       "      <th>415</th>\n",
       "      <td>1fvkopg</td>\n",
       "      <td>Hospitals take steps to conserve IV fluid supp...</td>\n",
       "      <td>4</td>\n",
       "      <td>98</td>\n",
       "      <td>0.99</td>\n",
       "      <td>nbcnews.com</td>\n",
       "      <td>0</td>\n",
       "      <td>0</td>\n",
       "      <td>False</td>\n",
       "      <td>nbcnews</td>\n",
       "      <td>Health</td>\n",
       "      <td>2024-10-03</td>\n",
       "    </tr>\n",
       "    <tr>\n",
       "      <th>416</th>\n",
       "      <td>1fviry2</td>\n",
       "      <td>Flu vaccine might be less effective this year,...</td>\n",
       "      <td>4</td>\n",
       "      <td>99</td>\n",
       "      <td>0.95</td>\n",
       "      <td>cbsnews.com</td>\n",
       "      <td>0</td>\n",
       "      <td>0</td>\n",
       "      <td>False</td>\n",
       "      <td>CBSnews</td>\n",
       "      <td>Health</td>\n",
       "      <td>2024-10-03</td>\n",
       "    </tr>\n",
       "    <tr>\n",
       "      <th>417</th>\n",
       "      <td>1fvbeds</td>\n",
       "      <td>Two suspected German cases of deadly Marburg v...</td>\n",
       "      <td>0</td>\n",
       "      <td>67</td>\n",
       "      <td>0.99</td>\n",
       "      <td>upi.com</td>\n",
       "      <td>0</td>\n",
       "      <td>0</td>\n",
       "      <td>False</td>\n",
       "      <td>progress18</td>\n",
       "      <td>Health</td>\n",
       "      <td>2024-10-03</td>\n",
       "    </tr>\n",
       "  </tbody>\n",
       "</table>\n",
       "<p>418 rows × 12 columns</p>\n",
       "</div>"
      ],
      "text/plain": [
       "          id                                              title  num_comments  \\\n",
       "0    1gs5t18  RFK Jr.’s to-do list to make America ‘healthy’...           156   \n",
       "1    1gs9t9i  CDC confirms Oregon’s first human case of bird...            25   \n",
       "2    1gsgbez  Prospect of RFK Jr. as head of HHS panics many...             4   \n",
       "3    1gsmvym  Vaccine shows promise against aggressive breas...             1   \n",
       "4    1gs4vxx  Cases of highly infectious and preventable mea...             3   \n",
       "..       ...                                                ...           ...   \n",
       "413  1fve31i  Ontario child dies from rabies after bat found...           234   \n",
       "414  1fw4ho0            WHO approves first mpox diagnostic test             0   \n",
       "415  1fvkopg  Hospitals take steps to conserve IV fluid supp...             4   \n",
       "416  1fviry2  Flu vaccine might be less effective this year,...             4   \n",
       "417  1fvbeds  Two suspected German cases of deadly Marburg v...             0   \n",
       "\n",
       "     score  upvote_ratio              domain  gilded  num_crossposts   nsfw  \\\n",
       "0      461          0.92             cnn.com       0               0  False   \n",
       "1      194          0.97         nbcnews.com       0               0  False   \n",
       "2       41          0.87         science.org       0               0  False   \n",
       "3        6          1.00  medicine.washu.edu       0               0  False   \n",
       "4      143          0.98   independent.co.uk       0               0  False   \n",
       "..     ...           ...                 ...     ...             ...    ...   \n",
       "413   1251          0.98       globalnews.ca       0               0  False   \n",
       "414     13          0.88              dw.com       0               0  False   \n",
       "415     98          0.99         nbcnews.com       0               0  False   \n",
       "416     99          0.95         cbsnews.com       0               0  False   \n",
       "417     67          0.99             upi.com       0               0  False   \n",
       "\n",
       "                   author subreddit        date  \n",
       "0                     cnn    Health  2024-11-15  \n",
       "1                 nbcnews    Health  2024-11-15  \n",
       "2               Exastiken    Health  2024-11-16  \n",
       "3          F0urLeafCl0ver    Health  2024-11-16  \n",
       "4    theindependentonline    Health  2024-11-15  \n",
       "..                    ...       ...         ...  \n",
       "413          globalnewsca    Health  2024-10-03  \n",
       "414         DoremusJessup    Health  2024-10-04  \n",
       "415               nbcnews    Health  2024-10-03  \n",
       "416               CBSnews    Health  2024-10-03  \n",
       "417            progress18    Health  2024-10-03  \n",
       "\n",
       "[418 rows x 12 columns]"
      ]
     },
     "execution_count": 21,
     "metadata": {},
     "output_type": "execute_result"
    }
   ],
   "source": [
    "health_reddit"
   ]
  },
  {
   "cell_type": "code",
   "execution_count": 61,
   "id": "601c63a4-8bdd-42b0-a890-c16f9446c5aa",
   "metadata": {},
   "outputs": [
    {
     "data": {
      "text/plain": [
       "Index(['id', 'title', 'num_comments', 'score', 'upvote_ratio', 'domain',\n",
       "       'gilded', 'num_crossposts', 'nsfw', 'author', 'subreddit', 'date'],\n",
       "      dtype='object')"
      ]
     },
     "execution_count": 61,
     "metadata": {},
     "output_type": "execute_result"
    }
   ],
   "source": [
    "health_reddit.columns"
   ]
  },
  {
   "cell_type": "code",
   "execution_count": 31,
   "id": "58bd6483-47b6-4d2f-a342-f2c9e6f13be9",
   "metadata": {},
   "outputs": [],
   "source": [
    "schema_fname = 'health_reddit_data_with_dates_arrow.csv'\n",
    "schema_raw = pd.read_csv(schema_fname, index_col='author').title"
   ]
  },
  {
   "cell_type": "code",
   "execution_count": 34,
   "id": "5d936eb5-9187-426f-b9fa-e912afe6fa56",
   "metadata": {},
   "outputs": [
    {
     "data": {
      "text/plain": [
       "author\n",
       "cnn                     RFK Jr.’s to-do list to make America ‘healthy’...\n",
       "nbcnews                 CDC confirms Oregon’s first human case of bird...\n",
       "Exastiken               Prospect of RFK Jr. as head of HHS panics many...\n",
       "F0urLeafCl0ver          Vaccine shows promise against aggressive breas...\n",
       "theindependentonline    Cases of highly infectious and preventable mea...\n",
       "                                              ...                        \n",
       "globalnewsca            Ontario child dies from rabies after bat found...\n",
       "DoremusJessup                     WHO approves first mpox diagnostic test\n",
       "nbcnews                 Hospitals take steps to conserve IV fluid supp...\n",
       "CBSnews                 Flu vaccine might be less effective this year,...\n",
       "progress18              Two suspected German cases of deadly Marburg v...\n",
       "Name: title, Length: 418, dtype: object"
      ]
     },
     "execution_count": 34,
     "metadata": {},
     "output_type": "execute_result"
    }
   ],
   "source": [
    "schema_raw"
   ]
  },
  {
   "cell_type": "code",
   "execution_count": 36,
   "id": "bafcdb05-b905-45b0-a9c4-0e7383df4ef3",
   "metadata": {},
   "outputs": [
    {
     "data": {
      "text/plain": [
       "author\n",
       "nbcnews    CDC confirms Oregon’s first human case of bird...\n",
       "nbcnews    Trump picks RFK Jr. , anti-vaccine activist, f...\n",
       "nbcnews    FDA employees consider how to handle RFK Jr., ...\n",
       "nbcnews    Sudden syphilis retreat in gay men is most lik...\n",
       "nbcnews    Cutting-edge test uses DNA sequencing to yield...\n",
       "nbcnews    Study maps how nonprofit religious groups set ...\n",
       "nbcnews    After Trump win, RFK Jr. says he won't 'take a...\n",
       "nbcnews    Abortion rights ballot measures pass in 7 stat...\n",
       "nbcnews    Trump team fully embraces RFK Jr.'s vaccine sk...\n",
       "nbcnews    CDC says slivered onions are likely cause of M...\n",
       "nbcnews    What food safety experts steer clear of to avo...\n",
       "nbcnews    Illnesses linked to McDonald's E. coli outbrea...\n",
       "nbcnews    FDA eyes McDonald's supplier Taylor Farms as s...\n",
       "nbcnews    McDonald's zeroes in on onions as the likely s...\n",
       "nbcnews    E. coli outbreak linked to McDonald’s Quarter ...\n",
       "nbcnews    Some Juul users are receiving thousands of dol...\n",
       "nbcnews    Insurance should pay for over-the-counter birt...\n",
       "nbcnews    Drug overdose deaths fall for 6 months straigh...\n",
       "nbcnews    Nearly 10 million pounds of ready-to-eat chick...\n",
       "nbcnews    USDA investigating its handling of Boar’s Head...\n",
       "nbcnews    Patients scramble for treatments as hospitals ...\n",
       "nbcnews    A CNBC investigation into counterfeit weight l...\n",
       "nbcnews    Fourteen AGs sue TikTok, accusing it of harmin...\n",
       "nbcnews    Vance says a future Trump administration would...\n",
       "nbcnews    CDC to begin testing travelers from Rwanda for...\n",
       "nbcnews    Is bird flu spreading in people? Without blood...\n",
       "nbcnews    Hospitals take steps to conserve IV fluid supp...\n",
       "Name: title, dtype: object"
      ]
     },
     "execution_count": 36,
     "metadata": {},
     "output_type": "execute_result"
    }
   ],
   "source": [
    "schema_raw['nbcnews']"
   ]
  },
  {
   "cell_type": "code",
   "execution_count": 63,
   "id": "5669f5fa-8474-4d5c-876b-8e66e4a1ba38",
   "metadata": {},
   "outputs": [
    {
     "data": {
      "text/html": [
       "<div>\n",
       "<style scoped>\n",
       "    .dataframe tbody tr th:only-of-type {\n",
       "        vertical-align: middle;\n",
       "    }\n",
       "\n",
       "    .dataframe tbody tr th {\n",
       "        vertical-align: top;\n",
       "    }\n",
       "\n",
       "    .dataframe thead th {\n",
       "        text-align: right;\n",
       "    }\n",
       "</style>\n",
       "<table border=\"1\" class=\"dataframe\">\n",
       "  <thead>\n",
       "    <tr style=\"text-align: right;\">\n",
       "      <th></th>\n",
       "      <th>id</th>\n",
       "      <th>title</th>\n",
       "      <th>num_comments</th>\n",
       "      <th>score</th>\n",
       "      <th>upvote_ratio</th>\n",
       "      <th>domain</th>\n",
       "      <th>gilded</th>\n",
       "      <th>num_crossposts</th>\n",
       "      <th>nsfw</th>\n",
       "      <th>author</th>\n",
       "      <th>subreddit</th>\n",
       "      <th>date</th>\n",
       "    </tr>\n",
       "  </thead>\n",
       "  <tbody>\n",
       "    <tr>\n",
       "      <th>count</th>\n",
       "      <td>418</td>\n",
       "      <td>418</td>\n",
       "      <td>418.000000</td>\n",
       "      <td>418.000000</td>\n",
       "      <td>418.000000</td>\n",
       "      <td>418</td>\n",
       "      <td>418.0</td>\n",
       "      <td>418.000000</td>\n",
       "      <td>418</td>\n",
       "      <td>418</td>\n",
       "      <td>418</td>\n",
       "      <td>418</td>\n",
       "    </tr>\n",
       "    <tr>\n",
       "      <th>unique</th>\n",
       "      <td>418</td>\n",
       "      <td>415</td>\n",
       "      <td>NaN</td>\n",
       "      <td>NaN</td>\n",
       "      <td>NaN</td>\n",
       "      <td>115</td>\n",
       "      <td>NaN</td>\n",
       "      <td>NaN</td>\n",
       "      <td>2</td>\n",
       "      <td>113</td>\n",
       "      <td>1</td>\n",
       "      <td>45</td>\n",
       "    </tr>\n",
       "    <tr>\n",
       "      <th>top</th>\n",
       "      <td>1grfl90</td>\n",
       "      <td>Inside the Company Helping America’s Biggest H...</td>\n",
       "      <td>NaN</td>\n",
       "      <td>NaN</td>\n",
       "      <td>NaN</td>\n",
       "      <td>nbcnews.com</td>\n",
       "      <td>NaN</td>\n",
       "      <td>NaN</td>\n",
       "      <td>False</td>\n",
       "      <td>nbcnews</td>\n",
       "      <td>Health</td>\n",
       "      <td>2024-10-24</td>\n",
       "    </tr>\n",
       "    <tr>\n",
       "      <th>freq</th>\n",
       "      <td>1</td>\n",
       "      <td>2</td>\n",
       "      <td>NaN</td>\n",
       "      <td>NaN</td>\n",
       "      <td>NaN</td>\n",
       "      <td>30</td>\n",
       "      <td>NaN</td>\n",
       "      <td>NaN</td>\n",
       "      <td>417</td>\n",
       "      <td>26</td>\n",
       "      <td>418</td>\n",
       "      <td>18</td>\n",
       "    </tr>\n",
       "    <tr>\n",
       "      <th>mean</th>\n",
       "      <td>NaN</td>\n",
       "      <td>NaN</td>\n",
       "      <td>25.208134</td>\n",
       "      <td>174.521531</td>\n",
       "      <td>0.919163</td>\n",
       "      <td>NaN</td>\n",
       "      <td>0.0</td>\n",
       "      <td>0.160287</td>\n",
       "      <td>NaN</td>\n",
       "      <td>NaN</td>\n",
       "      <td>NaN</td>\n",
       "      <td>NaN</td>\n",
       "    </tr>\n",
       "    <tr>\n",
       "      <th>std</th>\n",
       "      <td>NaN</td>\n",
       "      <td>NaN</td>\n",
       "      <td>46.522909</td>\n",
       "      <td>228.035392</td>\n",
       "      <td>0.105887</td>\n",
       "      <td>NaN</td>\n",
       "      <td>0.0</td>\n",
       "      <td>0.421999</td>\n",
       "      <td>NaN</td>\n",
       "      <td>NaN</td>\n",
       "      <td>NaN</td>\n",
       "      <td>NaN</td>\n",
       "    </tr>\n",
       "    <tr>\n",
       "      <th>min</th>\n",
       "      <td>NaN</td>\n",
       "      <td>NaN</td>\n",
       "      <td>0.000000</td>\n",
       "      <td>0.000000</td>\n",
       "      <td>0.180000</td>\n",
       "      <td>NaN</td>\n",
       "      <td>0.0</td>\n",
       "      <td>0.000000</td>\n",
       "      <td>NaN</td>\n",
       "      <td>NaN</td>\n",
       "      <td>NaN</td>\n",
       "      <td>NaN</td>\n",
       "    </tr>\n",
       "    <tr>\n",
       "      <th>25%</th>\n",
       "      <td>NaN</td>\n",
       "      <td>NaN</td>\n",
       "      <td>2.000000</td>\n",
       "      <td>31.000000</td>\n",
       "      <td>0.900000</td>\n",
       "      <td>NaN</td>\n",
       "      <td>0.0</td>\n",
       "      <td>0.000000</td>\n",
       "      <td>NaN</td>\n",
       "      <td>NaN</td>\n",
       "      <td>NaN</td>\n",
       "      <td>NaN</td>\n",
       "    </tr>\n",
       "    <tr>\n",
       "      <th>50%</th>\n",
       "      <td>NaN</td>\n",
       "      <td>NaN</td>\n",
       "      <td>6.000000</td>\n",
       "      <td>82.500000</td>\n",
       "      <td>0.950000</td>\n",
       "      <td>NaN</td>\n",
       "      <td>0.0</td>\n",
       "      <td>0.000000</td>\n",
       "      <td>NaN</td>\n",
       "      <td>NaN</td>\n",
       "      <td>NaN</td>\n",
       "      <td>NaN</td>\n",
       "    </tr>\n",
       "    <tr>\n",
       "      <th>75%</th>\n",
       "      <td>NaN</td>\n",
       "      <td>NaN</td>\n",
       "      <td>27.500000</td>\n",
       "      <td>240.250000</td>\n",
       "      <td>0.980000</td>\n",
       "      <td>NaN</td>\n",
       "      <td>0.0</td>\n",
       "      <td>0.000000</td>\n",
       "      <td>NaN</td>\n",
       "      <td>NaN</td>\n",
       "      <td>NaN</td>\n",
       "      <td>NaN</td>\n",
       "    </tr>\n",
       "    <tr>\n",
       "      <th>max</th>\n",
       "      <td>NaN</td>\n",
       "      <td>NaN</td>\n",
       "      <td>344.000000</td>\n",
       "      <td>1360.000000</td>\n",
       "      <td>1.000000</td>\n",
       "      <td>NaN</td>\n",
       "      <td>0.0</td>\n",
       "      <td>3.000000</td>\n",
       "      <td>NaN</td>\n",
       "      <td>NaN</td>\n",
       "      <td>NaN</td>\n",
       "      <td>NaN</td>\n",
       "    </tr>\n",
       "  </tbody>\n",
       "</table>\n",
       "</div>"
      ],
      "text/plain": [
       "             id                                              title  \\\n",
       "count       418                                                418   \n",
       "unique      418                                                415   \n",
       "top     1grfl90  Inside the Company Helping America’s Biggest H...   \n",
       "freq          1                                                  2   \n",
       "mean        NaN                                                NaN   \n",
       "std         NaN                                                NaN   \n",
       "min         NaN                                                NaN   \n",
       "25%         NaN                                                NaN   \n",
       "50%         NaN                                                NaN   \n",
       "75%         NaN                                                NaN   \n",
       "max         NaN                                                NaN   \n",
       "\n",
       "        num_comments        score  upvote_ratio       domain  gilded  \\\n",
       "count     418.000000   418.000000    418.000000          418   418.0   \n",
       "unique           NaN          NaN           NaN          115     NaN   \n",
       "top              NaN          NaN           NaN  nbcnews.com     NaN   \n",
       "freq             NaN          NaN           NaN           30     NaN   \n",
       "mean       25.208134   174.521531      0.919163          NaN     0.0   \n",
       "std        46.522909   228.035392      0.105887          NaN     0.0   \n",
       "min         0.000000     0.000000      0.180000          NaN     0.0   \n",
       "25%         2.000000    31.000000      0.900000          NaN     0.0   \n",
       "50%         6.000000    82.500000      0.950000          NaN     0.0   \n",
       "75%        27.500000   240.250000      0.980000          NaN     0.0   \n",
       "max       344.000000  1360.000000      1.000000          NaN     0.0   \n",
       "\n",
       "        num_crossposts   nsfw   author subreddit        date  \n",
       "count       418.000000    418      418       418         418  \n",
       "unique             NaN      2      113         1          45  \n",
       "top                NaN  False  nbcnews    Health  2024-10-24  \n",
       "freq               NaN    417       26       418          18  \n",
       "mean          0.160287    NaN      NaN       NaN         NaN  \n",
       "std           0.421999    NaN      NaN       NaN         NaN  \n",
       "min           0.000000    NaN      NaN       NaN         NaN  \n",
       "25%           0.000000    NaN      NaN       NaN         NaN  \n",
       "50%           0.000000    NaN      NaN       NaN         NaN  \n",
       "75%           0.000000    NaN      NaN       NaN         NaN  \n",
       "max           3.000000    NaN      NaN       NaN         NaN  "
      ]
     },
     "execution_count": 63,
     "metadata": {},
     "output_type": "execute_result"
    }
   ],
   "source": [
    "health_reddit.describe(include= 'all')"
   ]
  },
  {
   "cell_type": "code",
   "execution_count": 47,
   "id": "3bf3426f-effe-4fa9-a356-fc07f02d8896",
   "metadata": {},
   "outputs": [
    {
     "data": {
      "text/plain": [
       "author\n",
       "nbcnews                 26\n",
       "euronews-english        22\n",
       "Maxcactus               20\n",
       "nytopinion              18\n",
       "CTVNEWS                 18\n",
       "                        ..\n",
       "indig0sixalpha           1\n",
       "sullie363                1\n",
       "Southern_Opposite747     1\n",
       "shinybrighthings         1\n",
       "LosFelizCB               1\n",
       "Name: count, Length: 113, dtype: int64"
      ]
     },
     "execution_count": 47,
     "metadata": {},
     "output_type": "execute_result"
    }
   ],
   "source": [
    "health_reddit.author.value_counts()"
   ]
  },
  {
   "cell_type": "markdown",
   "id": "1e999913-9fd3-47e4-93af-0498e13ce1aa",
   "metadata": {},
   "source": [
    "Ignore rows that the authors have just one title discussion each -\n",
    "indig0sixalpha, sullie363, Sothern_Opposit747, shinybrighyhings, LosFelizCB."
   ]
  },
  {
   "cell_type": "code",
   "execution_count": 43,
   "id": "ac07a648-306d-4cd7-a212-38859e423c63",
   "metadata": {},
   "outputs": [
    {
     "data": {
      "text/html": [
       "<div>\n",
       "<style scoped>\n",
       "    .dataframe tbody tr th:only-of-type {\n",
       "        vertical-align: middle;\n",
       "    }\n",
       "\n",
       "    .dataframe tbody tr th {\n",
       "        vertical-align: top;\n",
       "    }\n",
       "\n",
       "    .dataframe thead th {\n",
       "        text-align: right;\n",
       "    }\n",
       "</style>\n",
       "<table border=\"1\" class=\"dataframe\">\n",
       "  <thead>\n",
       "    <tr style=\"text-align: right;\">\n",
       "      <th></th>\n",
       "      <th>id</th>\n",
       "      <th>title</th>\n",
       "      <th>num_comments</th>\n",
       "      <th>score</th>\n",
       "      <th>upvote_ratio</th>\n",
       "      <th>domain</th>\n",
       "      <th>gilded</th>\n",
       "      <th>num_crossposts</th>\n",
       "      <th>nsfw</th>\n",
       "      <th>author</th>\n",
       "      <th>subreddit</th>\n",
       "      <th>date</th>\n",
       "    </tr>\n",
       "  </thead>\n",
       "  <tbody>\n",
       "    <tr>\n",
       "      <th>12</th>\n",
       "      <td>1gru3ix</td>\n",
       "      <td>The First Crispr Treatment Is Making Its Way t...</td>\n",
       "      <td>5</td>\n",
       "      <td>64</td>\n",
       "      <td>0.95</td>\n",
       "      <td>wired.com</td>\n",
       "      <td>0</td>\n",
       "      <td>0</td>\n",
       "      <td>False</td>\n",
       "      <td>wiredmagazine</td>\n",
       "      <td>Health</td>\n",
       "      <td>2024-11-15</td>\n",
       "    </tr>\n",
       "    <tr>\n",
       "      <th>368</th>\n",
       "      <td>1fzt985</td>\n",
       "      <td>Report suggests decrease in condom use among C...</td>\n",
       "      <td>0</td>\n",
       "      <td>11</td>\n",
       "      <td>0.87</td>\n",
       "      <td>ctvnews.ca</td>\n",
       "      <td>0</td>\n",
       "      <td>0</td>\n",
       "      <td>False</td>\n",
       "      <td>CTVNEWS</td>\n",
       "      <td>Health</td>\n",
       "      <td>2024-10-09</td>\n",
       "    </tr>\n",
       "    <tr>\n",
       "      <th>251</th>\n",
       "      <td>1g8zgwd</td>\n",
       "      <td>Sugar tax on beverages reduces consumption in ...</td>\n",
       "      <td>44</td>\n",
       "      <td>573</td>\n",
       "      <td>0.98</td>\n",
       "      <td>washington.edu</td>\n",
       "      <td>0</td>\n",
       "      <td>1</td>\n",
       "      <td>False</td>\n",
       "      <td>mareacaspica</td>\n",
       "      <td>Health</td>\n",
       "      <td>2024-10-21</td>\n",
       "    </tr>\n",
       "    <tr>\n",
       "      <th>86</th>\n",
       "      <td>1gm7r68</td>\n",
       "      <td>Compounded semaglutide associated with at leas...</td>\n",
       "      <td>21</td>\n",
       "      <td>151</td>\n",
       "      <td>0.87</td>\n",
       "      <td>cnn.com</td>\n",
       "      <td>0</td>\n",
       "      <td>0</td>\n",
       "      <td>False</td>\n",
       "      <td>cnn</td>\n",
       "      <td>Health</td>\n",
       "      <td>2024-11-08</td>\n",
       "    </tr>\n",
       "    <tr>\n",
       "      <th>343</th>\n",
       "      <td>1g0s7x0</td>\n",
       "      <td>Nearly 10 million pounds of meat recalled due ...</td>\n",
       "      <td>49</td>\n",
       "      <td>440</td>\n",
       "      <td>0.98</td>\n",
       "      <td>cnn.com</td>\n",
       "      <td>0</td>\n",
       "      <td>1</td>\n",
       "      <td>False</td>\n",
       "      <td>cnn</td>\n",
       "      <td>Health</td>\n",
       "      <td>2024-10-10</td>\n",
       "    </tr>\n",
       "    <tr>\n",
       "      <th>279</th>\n",
       "      <td>1g7c2dc</td>\n",
       "      <td>A man declared dead almost had surgery to dona...</td>\n",
       "      <td>20</td>\n",
       "      <td>124</td>\n",
       "      <td>0.89</td>\n",
       "      <td>npr.org</td>\n",
       "      <td>0</td>\n",
       "      <td>0</td>\n",
       "      <td>False</td>\n",
       "      <td>Joke-Fast</td>\n",
       "      <td>Health</td>\n",
       "      <td>2024-10-19</td>\n",
       "    </tr>\n",
       "    <tr>\n",
       "      <th>198</th>\n",
       "      <td>1gcgr55</td>\n",
       "      <td>Anti-malarial drug resistance is making malari...</td>\n",
       "      <td>1</td>\n",
       "      <td>43</td>\n",
       "      <td>0.99</td>\n",
       "      <td>africanarguments.org</td>\n",
       "      <td>0</td>\n",
       "      <td>0</td>\n",
       "      <td>False</td>\n",
       "      <td>boppinmule</td>\n",
       "      <td>Health</td>\n",
       "      <td>2024-10-26</td>\n",
       "    </tr>\n",
       "    <tr>\n",
       "      <th>209</th>\n",
       "      <td>1gc21dl</td>\n",
       "      <td>DEA’s National Prescription Drug Take Back Day...</td>\n",
       "      <td>0</td>\n",
       "      <td>4</td>\n",
       "      <td>1.00</td>\n",
       "      <td>dea.gov</td>\n",
       "      <td>0</td>\n",
       "      <td>0</td>\n",
       "      <td>False</td>\n",
       "      <td>jms1225</td>\n",
       "      <td>Health</td>\n",
       "      <td>2024-10-25</td>\n",
       "    </tr>\n",
       "    <tr>\n",
       "      <th>1</th>\n",
       "      <td>1gs9t9i</td>\n",
       "      <td>CDC confirms Oregon’s first human case of bird...</td>\n",
       "      <td>25</td>\n",
       "      <td>194</td>\n",
       "      <td>0.97</td>\n",
       "      <td>nbcnews.com</td>\n",
       "      <td>0</td>\n",
       "      <td>0</td>\n",
       "      <td>False</td>\n",
       "      <td>nbcnews</td>\n",
       "      <td>Health</td>\n",
       "      <td>2024-11-15</td>\n",
       "    </tr>\n",
       "    <tr>\n",
       "      <th>127</th>\n",
       "      <td>1gjegba</td>\n",
       "      <td>New magnetoelastic sensor within a stent trans...</td>\n",
       "      <td>0</td>\n",
       "      <td>16</td>\n",
       "      <td>0.92</td>\n",
       "      <td>ece.engin.umich.edu</td>\n",
       "      <td>0</td>\n",
       "      <td>0</td>\n",
       "      <td>False</td>\n",
       "      <td>mareacaspica</td>\n",
       "      <td>Health</td>\n",
       "      <td>2024-11-04</td>\n",
       "    </tr>\n",
       "  </tbody>\n",
       "</table>\n",
       "</div>"
      ],
      "text/plain": [
       "          id                                              title  num_comments  \\\n",
       "12   1gru3ix  The First Crispr Treatment Is Making Its Way t...             5   \n",
       "368  1fzt985  Report suggests decrease in condom use among C...             0   \n",
       "251  1g8zgwd  Sugar tax on beverages reduces consumption in ...            44   \n",
       "86   1gm7r68  Compounded semaglutide associated with at leas...            21   \n",
       "343  1g0s7x0  Nearly 10 million pounds of meat recalled due ...            49   \n",
       "279  1g7c2dc  A man declared dead almost had surgery to dona...            20   \n",
       "198  1gcgr55  Anti-malarial drug resistance is making malari...             1   \n",
       "209  1gc21dl  DEA’s National Prescription Drug Take Back Day...             0   \n",
       "1    1gs9t9i  CDC confirms Oregon’s first human case of bird...            25   \n",
       "127  1gjegba  New magnetoelastic sensor within a stent trans...             0   \n",
       "\n",
       "     score  upvote_ratio                domain  gilded  num_crossposts   nsfw  \\\n",
       "12      64          0.95             wired.com       0               0  False   \n",
       "368     11          0.87            ctvnews.ca       0               0  False   \n",
       "251    573          0.98        washington.edu       0               1  False   \n",
       "86     151          0.87               cnn.com       0               0  False   \n",
       "343    440          0.98               cnn.com       0               1  False   \n",
       "279    124          0.89               npr.org       0               0  False   \n",
       "198     43          0.99  africanarguments.org       0               0  False   \n",
       "209      4          1.00               dea.gov       0               0  False   \n",
       "1      194          0.97           nbcnews.com       0               0  False   \n",
       "127     16          0.92   ece.engin.umich.edu       0               0  False   \n",
       "\n",
       "            author subreddit        date  \n",
       "12   wiredmagazine    Health  2024-11-15  \n",
       "368        CTVNEWS    Health  2024-10-09  \n",
       "251   mareacaspica    Health  2024-10-21  \n",
       "86             cnn    Health  2024-11-08  \n",
       "343            cnn    Health  2024-10-10  \n",
       "279      Joke-Fast    Health  2024-10-19  \n",
       "198     boppinmule    Health  2024-10-26  \n",
       "209        jms1225    Health  2024-10-25  \n",
       "1          nbcnews    Health  2024-11-15  \n",
       "127   mareacaspica    Health  2024-11-04  "
      ]
     },
     "execution_count": 43,
     "metadata": {},
     "output_type": "execute_result"
    }
   ],
   "source": [
    "health_reddit.sample(10)\n"
   ]
  },
  {
   "cell_type": "markdown",
   "id": "3eacd6b9-eb39-4ac7-8ecd-9bf6ab167b71",
   "metadata": {},
   "source": [
    "#### Missing data"
   ]
  },
  {
   "cell_type": "code",
   "execution_count": null,
   "id": "60eaba28-b772-4f1a-8fdd-1c93df82b2ae",
   "metadata": {},
   "outputs": [],
   "source": [
    "The data showed no missing values."
   ]
  },
  {
   "cell_type": "code",
   "execution_count": 32,
   "id": "863e10be-0ba8-41b2-8643-0e15c13d689f",
   "metadata": {},
   "outputs": [
    {
     "name": "stdout",
     "output_type": "stream",
     "text": [
      "id                0\n",
      "title             0\n",
      "num_comments      0\n",
      "score             0\n",
      "upvote_ratio      0\n",
      "domain            0\n",
      "gilded            0\n",
      "num_crossposts    0\n",
      "nsfw              0\n",
      "author            0\n",
      "subreddit         0\n",
      "date              0\n",
      "dtype: int64\n"
     ]
    }
   ],
   "source": [
    "#Missing values\n",
    "print(df.isnull().sum())  # Count missing values in each column"
   ]
  },
  {
   "cell_type": "markdown",
   "id": "4af2795e-87df-4cc3-b911-5cfb59db4edf",
   "metadata": {},
   "source": [
    "#### Checking for outliers"
   ]
  },
  {
   "cell_type": "markdown",
   "id": "3ef201cb-ceec-45e4-a32e-6815203c35cd",
   "metadata": {},
   "source": [
    "The result below shows no presence of outliers"
   ]
  },
  {
   "cell_type": "code",
   "execution_count": 178,
   "id": "b4f088c6-0a78-4960-8ea0-ecb9797fb945",
   "metadata": {
    "scrolled": true
   },
   "outputs": [
    {
     "data": {
      "text/plain": [
       "(0.0, 10000.0)"
      ]
     },
     "execution_count": 178,
     "metadata": {},
     "output_type": "execute_result"
    },
    {
     "data": {
      "image/png": "[encoded data removed]",
      "text/plain": [
       "<Figure size 900x500 with 1 Axes>"
      ]
     },
     "metadata": {
      "needs_background": "light"
     },
     "output_type": "display_data"
    }
   ],
   "source": [
    "ax=health_reddit.plot.scatter(x='score', y='num_comments',s=50,c='k',alpha=.5)\n",
    "ax.set_ylim((0, 170000))\n",
    "ax.set_ylim((0,10000))"
   ]
  },
  {
   "cell_type": "markdown",
   "id": "0608e4fc-d314-40a9-932b-c9ee9f074f96",
   "metadata": {},
   "source": [
    "##### Additional steps"
   ]
  },
  {
   "cell_type": "markdown",
   "id": "9e4b8258-73ef-4fe0-90dc-5ecf49686d3c",
   "metadata": {},
   "source": [
    "Adding a percentage to the comment and scores"
   ]
  },
  {
   "cell_type": "code",
   "execution_count": null,
   "id": "d1c9022d-1c50-486e-97ae-3b190d1efbe2",
   "metadata": {},
   "outputs": [],
   "source": []
  },
  {
   "cell_type": "code",
   "execution_count": null,
   "id": "e52c29d4-764c-4a5e-8100-bb28211d318b",
   "metadata": {},
   "outputs": [],
   "source": []
  },
  {
   "cell_type": "markdown",
   "id": "066200c2-82a9-47df-8e65-d5813bb530f8",
   "metadata": {},
   "source": [
    "#### Explanation\n",
    "Steps to prepare data:\n",
    "Steps to clean data:\n",
    "Steps in creating additional columns:"
   ]
  },
  {
   "cell_type": "markdown",
   "id": "ddc7e20d-28f9-420c-93ad-de80347da117",
   "metadata": {},
   "source": [
    "### Step 3 - Exploratory Data analysis\n"
   ]
  },
  {
   "cell_type": "code",
   "execution_count": null,
   "id": "b76c1b48-03bc-4673-89ff-0674ccfa9467",
   "metadata": {},
   "outputs": [],
   "source": [
    "Calculating the sum of num_comments, score, num_crossposts, upvote_ratio"
   ]
  },
  {
   "cell_type": "code",
   "execution_count": 7,
   "id": "6c71fa13-d33c-407f-a804-cc4f0577f871",
   "metadata": {},
   "outputs": [
    {
     "name": "stdout",
     "output_type": "stream",
     "text": [
      "Sum of num_comments is 10732\n",
      "Sum of score is 73450\n"
     ]
    }
   ],
   "source": [
    "import pandas as pd\n",
    "\n",
    "df = pd.read_csv('health_reddit_data_with_dates_arrow.csv')\n",
    "\n",
    "total_sum = df['num_comments'].sum()\n",
    "print(\"Sum of num_comments is\", total_sum)\n",
    "\n",
    "total_counts = df['score'].sum()\n",
    "print(\"Sum of score is\", total_counts)\n"
   ]
  },
  {
   "cell_type": "code",
   "execution_count": null,
   "id": "7a808b92-db44-46df-9e5b-f0e28dbfb2af",
   "metadata": {},
   "outputs": [],
   "source": [
    "Calculating the means of num_comments, score, num_crossposts, upvote_ratio"
   ]
  },
  {
   "cell_type": "code",
   "execution_count": 9,
   "id": "e04dadc5-5623-480a-9f84-de392301789c",
   "metadata": {},
   "outputs": [
    {
     "name": "stdout",
     "output_type": "stream",
     "text": [
      "Mean num_comments is 25.67464114832536\n",
      "Mean score is 175.7177033492823\n",
      "Mean num_crossposts is 0.16028708133971292\n",
      "Mean upvote_ratio is 0.9202392344497606\n"
     ]
    }
   ],
   "source": [
    "data = pd.read_csv('health_reddit_data_with_dates_arrow.csv')\n",
    "mean_comments = data['num_comments'].mean()\n",
    "print(\"Mean num_comments is\", mean_comments)\n",
    "\n",
    "mean_score = data['score'].mean()\n",
    "print(\"Mean score is\", mean_score)\n",
    "\n",
    "mean_crossposts = data['num_crossposts'].mean()\n",
    "print(\"Mean num_crossposts is\", mean_crossposts)\n",
    "\n",
    "upvote_ratio = data['upvote_ratio'].mean()\n",
    "print(\"Mean upvote_ratio is\", upvote_ratio)"
   ]
  },
  {
   "cell_type": "code",
   "execution_count": 85,
   "id": "3edf1222-e236-40c4-8a03-029d05b98443",
   "metadata": {},
   "outputs": [],
   "source": [
    "Calculating the range of num_comments, score, num_crossposts, upvote_ratio"
   ]
  },
  {
   "cell_type": "code",
   "execution_count": 132,
   "id": "2525a587-17d1-4bf7-b068-eb1cbcaf02a0",
   "metadata": {},
   "outputs": [
    {
     "name": "stdout",
     "output_type": "stream",
     "text": [
      "Range num_comments is 344\n",
      "Range score is 1360\n",
      "Range num_crossposts is 3\n",
      "Range upvote_ratio is 0.8200000000000001\n"
     ]
    }
   ],
   "source": [
    "range_comments = data['num_comments'].max() - data['num_comments'].min()\n",
    "print(\"Range num_comments is\", range_comments)\n",
    "\n",
    "range_score = data['score'].max() - data['score'].min()\n",
    "print(\"Range score is\", range_score)\n",
    "\n",
    "range_crossposts = data['num_crossposts'].max() - data['num_crossposts'].min()\n",
    "print(\"Range num_crossposts is\", range_crossposts)\n",
    "\n",
    "range_upvote_ratio = data['upvote_ratio'].max() - data['upvote_ratio'].min()\n",
    "print(\"Range upvote_ratio is\",range_upvote_ratio)"
   ]
  },
  {
   "cell_type": "code",
   "execution_count": 11,
   "id": "3bce1ffd-54d0-4530-bde0-eb723fa27fd4",
   "metadata": {},
   "outputs": [
    {
     "name": "stdout",
     "output_type": "stream",
     "text": [
      "47.50261260507008\n",
      "228.31327445541692\n",
      "0.42199925429326895\n",
      "228.31327445541692\n"
     ]
    }
   ],
   "source": [
    "standard_deviation_comments = data[\"num_comments\"].std()\n",
    "print(standard_deviation_comments)\n",
    "\n",
    "standard_deviation_score = data[\"score\"].std()\n",
    "print(standard_deviation_score)\n",
    "\n",
    "standard_deviation_num_crossposts = data['num_crossposts'].std()\n",
    "print(standard_deviation_num_crossposts)\n",
    "\n",
    "standard_deviation_upvote_ratio = data['upvote_ratio'].std()\n",
    "print(standard_deviation_score)"
   ]
  },
  {
   "cell_type": "code",
   "execution_count": 13,
   "id": "083caf9d-280b-412b-99b9-50f1cb6a72bc",
   "metadata": {},
   "outputs": [
    {
     "data": {
      "text/plain": [
       "<function matplotlib.pyplot.show(close=None, block=None)>"
      ]
     },
     "execution_count": 13,
     "metadata": {},
     "output_type": "execute_result"
    },
    {
     "data": {
      "image/png": "[encoded data removed]",
      "text/plain": [
       "<Figure size 640x480 with 1 Axes>"
      ]
     },
     "metadata": {},
     "output_type": "display_data"
    }
   ],
   "source": [
    "import seaborn as sns\n",
    "import matplotlib.pyplot as plt\n",
    "\n",
    "\n",
    "sns.boxplot(data=data[['num_comments', 'score', 'num_crossposts', 'upvote_ratio']])\n",
    "plt.title('Reddit Health Forum 2024')\n",
    "plt.show\n"
   ]
  },
  {
   "cell_type": "code",
   "execution_count": 55,
   "id": "70ac9eb4-2e69-4db9-9720-3a7f71a2df0d",
   "metadata": {},
   "outputs": [
    {
     "ename": "NameError",
     "evalue": "name 'author' is not defined",
     "output_type": "error",
     "traceback": [
      "\u001b[1;31m---------------------------------------------------------------------------\u001b[0m",
      "\u001b[1;31mNameError\u001b[0m                                 Traceback (most recent call last)",
      "Cell \u001b[1;32mIn[55], line 4\u001b[0m\n\u001b[0;32m      2\u001b[0m plt\u001b[38;5;241m.\u001b[39mxticks(rotation\u001b[38;5;241m=\u001b[39m\u001b[38;5;241m75\u001b[39m)\n\u001b[0;32m      3\u001b[0m plt\u001b[38;5;241m.\u001b[39mtitle(health_reddit\u001b[38;5;241m.\u001b[39mauthor)\n\u001b[1;32m----> 4\u001b[0m sns\u001b[38;5;241m.\u001b[39mbarplot(x\u001b[38;5;241m=\u001b[39mauthor, y\u001b[38;5;241m=\u001b[39mscore)\n",
      "\u001b[1;31mNameError\u001b[0m: name 'author' is not defined"
     ]
    },
    {
     "data": {
      "image/png": "[encoded data removed]",
      "text/plain": [
       "<Figure size 1200x600 with 1 Axes>"
      ]
     },
     "metadata": {},
     "output_type": "display_data"
    }
   ],
   "source": [
    "plt.figure(figsize=(12,6))\n",
    "plt.xticks(rotation=75)\n",
    "plt.title(health_reddit.author)\n",
    "sns.barplot(x=author, y=score);"
   ]
  },
  {
   "cell_type": "code",
   "execution_count": null,
   "id": "cd5a2f7e-a36f-489f-95c5-2e9b8f1983ec",
   "metadata": {},
   "outputs": [],
   "source": []
  },
  {
   "cell_type": "code",
   "execution_count": 15,
   "id": "29665578-88c7-46fb-84d2-421e87635f27",
   "metadata": {},
   "outputs": [
    {
     "ename": "TypeError",
     "evalue": "hist() missing 1 required positional argument: 'x'",
     "output_type": "error",
     "traceback": [
      "\u001b[1;31m---------------------------------------------------------------------------\u001b[0m",
      "\u001b[1;31mTypeError\u001b[0m                                 Traceback (most recent call last)",
      "Cell \u001b[1;32mIn[15], line 6\u001b[0m\n\u001b[0;32m      3\u001b[0m plt\u001b[38;5;241m.\u001b[39mxlabel(\u001b[38;5;124m'\u001b[39m\u001b[38;5;124mnum_comments\u001b[39m\u001b[38;5;124m'\u001b[39m)\n\u001b[0;32m      4\u001b[0m plt\u001b[38;5;241m.\u001b[39mylabel(\u001b[38;5;124m'\u001b[39m\u001b[38;5;124mauthor\u001b[39m\u001b[38;5;124m'\u001b[39m)\n\u001b[1;32m----> 6\u001b[0m plt\u001b[38;5;241m.\u001b[39mhist( color\u001b[38;5;241m=\u001b[39m\u001b[38;5;124m'\u001b[39m\u001b[38;5;124mblue\u001b[39m\u001b[38;5;124m'\u001b[39m)\n",
      "\u001b[1;31mTypeError\u001b[0m: hist() missing 1 required positional argument: 'x'"
     ]
    },
    {
     "data": {
      "image/png": "[encoded data removed]",
      "text/plain": [
       "<Figure size 1200x600 with 1 Axes>"
      ]
     },
     "metadata": {},
     "output_type": "display_data"
    }
   ],
   "source": [
    "plt.figure(figsize=(12, 6))\n",
    "plt.title(\"Comment chart by authors\")\n",
    "plt.xlabel('num_comments')\n",
    "plt.ylabel('author')\n",
    "\n",
    "plt.hist( color='blue')"
   ]
  },
  {
   "cell_type": "code",
   "execution_count": 188,
   "id": "45835ad5-e017-4744-9784-59c591c173bd",
   "metadata": {},
   "outputs": [
    {
     "ename": "NameError",
     "evalue": "name 'filtered_df' is not defined",
     "output_type": "error",
     "traceback": [
      "\u001b[1;31m---------------------------------------------------------------------------\u001b[0m",
      "\u001b[1;31mNameError\u001b[0m                                 Traceback (most recent call last)",
      "Cell \u001b[1;32mIn[188], line 1\u001b[0m\n\u001b[1;32m----> 1\u001b[0m nbcnews_df\u001b[38;5;241m=\u001b[39m filtered_df[filtered_df[\u001b[38;5;124m'\u001b[39m\u001b[38;5;124mauthor\u001b[39m\u001b[38;5;124m'\u001b[39m]\u001b[38;5;241m==\u001b[39m\u001b[38;5;124m\"\u001b[39m\u001b[38;5;124mnbcnews\u001b[39m\u001b[38;5;124m\"\u001b[39m]\n\u001b[0;32m      2\u001b[0m euronews_df\u001b[38;5;241m=\u001b[39m filtered_df[filtered_df[\u001b[38;5;124m'\u001b[39m\u001b[38;5;124mauthor\u001b[39m\u001b[38;5;124m'\u001b[39m]\u001b[38;5;241m==\u001b[39m\u001b[38;5;124m\"\u001b[39m\u001b[38;5;124meuronews-english\u001b[39m\u001b[38;5;124m\"\u001b[39m]\n\u001b[0;32m      3\u001b[0m maxcactus_df\u001b[38;5;241m=\u001b[39m filtered_df[filtered_df[\u001b[38;5;124m'\u001b[39m\u001b[38;5;124mauthor\u001b[39m\u001b[38;5;124m'\u001b[39m]\u001b[38;5;241m==\u001b[39m\u001b[38;5;124m\"\u001b[39m\u001b[38;5;124mmaxcactus\u001b[39m\u001b[38;5;124m\"\u001b[39m]\n",
      "\u001b[1;31mNameError\u001b[0m: name 'filtered_df' is not defined"
     ]
    }
   ],
   "source": [
    "nbcnews_df= filtered_df[filtered_df['author']==\"nbcnews\"]\n",
    "euronews_df= filtered_df[filtered_df['author']==\"euronews-english\"]\n",
    "maxcactus_df= filtered_df[filtered_df['author']==\"maxcactus\"]\n",
    "nytopinion_df= filtered_df[filtered_df['author']==\"nytopinion\"]\n",
    "ctvnews_df= filtered_df[filtered_df['author']==\"ctvnews\"]\n",
    "\n",
    "data = [nbcnews_df['height'], euronews_df['height'], [maxcactus_df['height'], nytopinion['height']]]\n",
    " \n",
    "fig = plt.figure(figsize =(8, 5))\n",
    "ax = fig.add_axes([0,0,1, 1])\n",
    "ax.set_xticklabels([\"nbcnews\", \"euronews\", \"maxcactus\", 'nytopinion', 'ctvnews'])\n",
    "ax.set_title('Author boxplot')\n",
    "\n",
    "# Creating plot\n",
    "bp = ax.boxplot(data)\n",
    "\n",
    "# show plot\n",
    "plt.show()"
   ]
  },
  {
   "cell_type": "markdown",
   "id": "aec09e4f-242c-424c-bf64-ea04609e5a94",
   "metadata": {},
   "source": [
    "#### Additional step\n",
    "\n",
    "###### Adding an index to the data set"
   ]
  },
  {
   "cell_type": "code",
   "execution_count": null,
   "id": "c7886590-c443-4f8f-a65d-47e814460c92",
   "metadata": {},
   "outputs": [],
   "source": []
  },
  {
   "cell_type": "code",
   "execution_count": null,
   "id": "2ed7e3c2-8193-4247-845d-e5b9555b23a4",
   "metadata": {},
   "outputs": [],
   "source": []
  },
  {
   "cell_type": "code",
   "execution_count": 161,
   "id": "e591620f-cd82-48ca-a79b-1ffc83a82d74",
   "metadata": {},
   "outputs": [
    {
     "name": "stdout",
     "output_type": "stream",
     "text": [
      "46.52290873104731\n",
      "228.03539160198306\n",
      "0.42199925429326895\n",
      "228.03539160198306\n"
     ]
    }
   ],
   "source": [
    "standard_deviation_comments = data[\"num_comments\"].std()\n",
    "print(standard_deviation_comments)\n",
    "\n",
    "standard_deviation_score = data[\"score\"].std()\n",
    "print(standard_deviation_score)\n",
    "\n",
    "standard_deviation_num_crossposts = data['num_crossposts'].std()\n",
    "print(standard_deviation_num_crossposts)\n",
    "\n",
    "standard_deviation_upvote_ratio = data['upvote_ratio'].std()\n",
    "print(standard_deviation_score)"
   ]
  },
  {
   "cell_type": "code",
   "execution_count": 41,
   "id": "965fb13d-c26f-4ffa-9553-2afa3d135437",
   "metadata": {},
   "outputs": [],
   "source": []
  },
  {
   "cell_type": "code",
   "execution_count": 43,
   "id": "098ca31f-e4ed-4ee0-8d17-8e46725cfdf5",
   "metadata": {},
   "outputs": [],
   "source": [
    "\n"
   ]
  },
  {
   "cell_type": "code",
   "execution_count": 42,
   "id": "76d4f87f-4f19-45a7-9fa4-7f47ca8d9b82",
   "metadata": {},
   "outputs": [],
   "source": []
  },
  {
   "cell_type": "code",
   "execution_count": null,
   "id": "69dfb975-d980-48d9-9ddd-a2c304f124be",
   "metadata": {},
   "outputs": [],
   "source": []
  }
 ],
 "metadata": {
  "kernelspec": {
   "display_name": "Python 3 (ipykernel)",
   "language": "python",
   "name": "python3"
  },
  "language_info": {
   "codemirror_mode": {
    "name": "ipython",
    "version": 3
   },
   "file_extension": ".py",
   "mimetype": "text/x-python",
   "name": "python",
   "nbconvert_exporter": "python",
   "pygments_lexer": "ipython3",
   "version": "3.12.4"
  }
 },
 "nbformat": 4,
 "nbformat_minor": 5
}
