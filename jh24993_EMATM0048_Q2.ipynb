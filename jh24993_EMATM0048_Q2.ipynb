{
 "cells": [
  {
   "cell_type": "markdown",
   "id": "4eea8071-8ca2-47c0-be1b-d37cd7c3e9ad",
   "metadata": {},
   "source": [
    "# SPDA SUMMATIVE ASSESSMENT QUESTION 2\n"
   ]
  },
  {
   "cell_type": "markdown",
   "id": "f83c2cb9-25c2-497e-8f89-07fb2e1e88f1",
   "metadata": {},
   "source": [
    "## Webscrapping Using Foursquare API\n"
   ]
  },
  {
   "cell_type": "markdown",
   "id": "e2f0b74c-acd1-4df0-9424-69dadd822187",
   "metadata": {},
   "source": [
    "### The neccesary libaries for this assigment is downlaoded"
   ]
  },
  {
   "cell_type": "markdown",
   "id": "4caed2ac-7244-41cc-884a-a52880449158",
   "metadata": {},
   "source": [
    "### Import libraries now\n"
   ]
  },
  {
   "cell_type": "code",
   "execution_count": 21,
   "id": "df8e5e76-2fdc-4b7a-ac41-5ab25aad0818",
   "metadata": {},
   "outputs": [
    {
     "name": "stdout",
     "output_type": "stream",
     "text": [
      "libraries imported.\n"
     ]
    }
   ],
   "source": [
    "import pandas as pd\n",
    "import numpy as np\n",
    "import json #library to handle JSON files\n",
    "import csv #library to handle CSV files\n",
    "import requests\n",
    "from bs4 import BeautifulSoup\n",
    "import folium\n",
    "print('libraries imported.')"
   ]
  },
  {
   "cell_type": "code",
   "execution_count": 37,
   "id": "3a398710-f1d7-45ea-916c-62a7d5947ba6",
   "metadata": {},
   "outputs": [
    {
     "data": {
      "text/html": [
       "<div>\n",
       "<style scoped>\n",
       "    .dataframe tbody tr th:only-of-type {\n",
       "        vertical-align: middle;\n",
       "    }\n",
       "\n",
       "    .dataframe tbody tr th {\n",
       "        vertical-align: top;\n",
       "    }\n",
       "\n",
       "    .dataframe thead th {\n",
       "        text-align: right;\n",
       "    }\n",
       "</style>\n",
       "<table border=\"1\" class=\"dataframe\">\n",
       "  <thead>\n",
       "    <tr style=\"text-align: right;\">\n",
       "      <th></th>\n",
       "      <th>Neighborhood</th>\n",
       "    </tr>\n",
       "  </thead>\n",
       "  <tbody>\n",
       "    <tr>\n",
       "      <th>0</th>\n",
       "      <td>Avonmouth (15 P)</td>\n",
       "    </tr>\n",
       "    <tr>\n",
       "      <th>1</th>\n",
       "      <td>Clifton, Bristol (2 C, 28 P)</td>\n",
       "    </tr>\n",
       "    <tr>\n",
       "      <th>2</th>\n",
       "      <td>Filton (13 P)</td>\n",
       "    </tr>\n",
       "    <tr>\n",
       "      <th>3</th>\n",
       "      <td>Bristol Harbourside (1 C, 55 P)</td>\n",
       "    </tr>\n",
       "    <tr>\n",
       "      <th>4</th>\n",
       "      <td>Henbury (10 P)</td>\n",
       "    </tr>\n",
       "    <tr>\n",
       "      <th>5</th>\n",
       "      <td>Kingswood, South Gloucestershire (2 C, 12 P)</td>\n",
       "    </tr>\n",
       "    <tr>\n",
       "      <th>6</th>\n",
       "      <td>St Pauls, Bristol (9 P)</td>\n",
       "    </tr>\n",
       "    <tr>\n",
       "      <th>7</th>\n",
       "      <td>Southmead (4 P)</td>\n",
       "    </tr>\n",
       "    <tr>\n",
       "      <th>8</th>\n",
       "      <td>The Downs, Bristol (7 P)</td>\n",
       "    </tr>\n",
       "    <tr>\n",
       "      <th>9</th>\n",
       "      <td>Westbury-on-Trym (1 C, 8 P)</td>\n",
       "    </tr>\n",
       "    <tr>\n",
       "      <th>10</th>\n",
       "      <td>Civil Parish of Winterbourne (10 P)</td>\n",
       "    </tr>\n",
       "  </tbody>\n",
       "</table>\n",
       "</div>"
      ],
      "text/plain": [
       "                                      Neighborhood\n",
       "0                                 Avonmouth (15 P)\n",
       "1                     Clifton, Bristol (2 C, 28 P)\n",
       "2                                    Filton (13 P)\n",
       "3                  Bristol Harbourside (1 C, 55 P)\n",
       "4                                   Henbury (10 P)\n",
       "5     Kingswood, South Gloucestershire (2 C, 12 P)\n",
       "6                          St Pauls, Bristol (9 P)\n",
       "7                                  Southmead (4 P)\n",
       "8                         The Downs, Bristol (7 P)\n",
       "9                      Westbury-on-Trym (1 C, 8 P)\n",
       "10             Civil Parish of Winterbourne (10 P)"
      ]
     },
     "execution_count": 37,
     "metadata": {},
     "output_type": "execute_result"
    }
   ],
   "source": [
    "# Send the GET request\n",
    "data = requests.get(\"https://en.wikipedia.org/wiki/Category:Areas_of_Bristol\").text\n",
    "\n",
    "# Parse data from the html into a beautifulsoup object\n",
    "soup = BeautifulSoup(data, 'html.parser')\n",
    "\n",
    "# Create a list to store neighbourhood data\n",
    "neighborhoodList = []\n",
    "\n",
    "# Append the data into the list\n",
    "for row in soup.find_all(\"div\", class_=\"mw-category\")[0].findAll(\"li\"):\n",
    "  neighborhoodList.append(row.text)\n",
    "    \n",
    "# Create a new DataFrame from the list\n",
    "bristol_df = pd.DataFrame({\"Neighborhood\": neighborhoodList})\n",
    "bristol_df"
   ]
  },
  {
   "cell_type": "code",
   "execution_count": 73,
   "id": "76914203-f0e5-4c82-a2f9-185329a9367b",
   "metadata": {},
   "outputs": [
    {
     "ename": "NameError",
     "evalue": "name 'df' is not defined",
     "output_type": "error",
     "traceback": [
      "\u001b[1;31m---------------------------------------------------------------------------\u001b[0m",
      "\u001b[1;31mNameError\u001b[0m                                 Traceback (most recent call last)",
      "Cell \u001b[1;32mIn[73], line 7\u001b[0m\n\u001b[0;32m      4\u001b[0m map_bristol \u001b[38;5;241m=\u001b[39m folium\u001b[38;5;241m.\u001b[39mMap(location\u001b[38;5;241m=\u001b[39m[latitude, longitude], zoom_start\u001b[38;5;241m=\u001b[39m\u001b[38;5;241m12\u001b[39m)\n\u001b[0;32m      6\u001b[0m \u001b[38;5;66;03m# Add markers to map\u001b[39;00m\n\u001b[1;32m----> 7\u001b[0m \u001b[38;5;28;01mfor\u001b[39;00m neighbourhood, lat, lng \u001b[38;5;129;01min\u001b[39;00m \u001b[38;5;28mzip\u001b[39m(df[\u001b[38;5;124m'\u001b[39m\u001b[38;5;124mNeighbourhoods\u001b[39m\u001b[38;5;124m'\u001b[39m], df[\u001b[38;5;124m'\u001b[39m\u001b[38;5;124mLatitude\u001b[39m\u001b[38;5;124m'\u001b[39m], df[\u001b[38;5;124m'\u001b[39m\u001b[38;5;124mLongitude\u001b[39m\u001b[38;5;124m'\u001b[39m]):\n\u001b[0;32m      8\u001b[0m     label \u001b[38;5;241m=\u001b[39m \u001b[38;5;124m'\u001b[39m\u001b[38;5;132;01m{}\u001b[39;00m\u001b[38;5;124m'\u001b[39m\u001b[38;5;241m.\u001b[39mformat(neighbourhood)\n\u001b[0;32m      9\u001b[0m     label \u001b[38;5;241m=\u001b[39m folium\u001b[38;5;241m.\u001b[39mPopup(label, parse_html\u001b[38;5;241m=\u001b[39m\u001b[38;5;28;01mTrue\u001b[39;00m)\n",
      "\u001b[1;31mNameError\u001b[0m: name 'df' is not defined"
     ]
    }
   ],
   "source": [
    "# Start location (city center) \n",
    "latitude = 51.4545\n",
    "longitude = 2.5879\n",
    "map_bristol = folium.Map(location=[latitude, longitude], zoom_start=12)\n",
    "\n",
    "# Add markers to map\n",
    "for neighbourhood, lat, lng in zip(df['Neighbourhoods'], df['Latitude'], df['Longitude']):\n",
    "    label = '{}'.format(neighbourhood)\n",
    "    label = folium.Popup(label, parse_html=True)\n",
    "    folium.CircleMarker(\n",
    "        [lat, lng],\n",
    "        radius=3,\n",
    "        popup=label,\n",
    "        color='blue',\n",
    "        fill=True,\n",
    "        fill_color='blue',\n",
    "        fill_opacity=1,\n",
    "        parse_html=False).add_to(map_bristol)  \n",
    "    \n",
    "map_bristol"
   ]
  },
  {
   "cell_type": "code",
   "execution_count": 1,
   "id": "aebcc45f-81bc-40b7-bc00-f3c94d7a7d92",
   "metadata": {},
   "outputs": [],
   "source": [
    "# Paste your user_id below\n",
    "CLIENT_ID = 'E52Z4FQ2TCXGCYKNSTITCMVUSPWGRNFQEY1SC3KB2YYKOFGK' \n",
    "# Paste your token/password here\n",
    "CLIENT_SECRET = 'BNGXZQ45E14OGGY5MS10XENF1JE3GIJMPHNH4NBECPBTFKUE'\n",
    "# Add the current date \n",
    "VERSION = 20241109\n",
    "# The radius of 500 meters\n",
    "radius = 22000\n",
    "# Extract 100 venues per location\n",
    "LIMIT = 400"
   ]
  },
  {
   "cell_type": "code",
   "execution_count": 65,
   "id": "006b84cf-4636-4a34-922a-9465fd92d4f8",
   "metadata": {},
   "outputs": [],
   "source": [
    "def getPubsInBristol(names, latitudes, longitudes):\n",
    "\n",
    "    pub_list =[]\n",
    "    for name, lat, lng in zip(names, latitudes, longitudes):\n",
    "        print(name)\n",
    "\n",
    "#Part 1: Create the API request URL\n",
    "        url ='https://api.foursquare.com/v3/places/search?query=name%2C%20neighbourhood%2C%20longitude%2C%20latitude%2C%20hours_popular%2C%20rating%2C%20price%2C%20tastes%2C%20tips%2C%20popularity%2C%20delivery%2C%20latenight&ll=II%3D51.4545%2C2.5879&radius=22000&categories=%09Dining%20and%20Drinking%20%3E%20Bar%20%3E%20Pub&sort=POPULARITY'.format(\n",
    "            CLIENT_ID, \n",
    "            CLIENT_SECRET, \n",
    "            VERSION, \n",
    "            lat, \n",
    "            lng, \n",
    "            radius, \n",
    "            LIMIT)\n",
    "\n",
    "          \n",
    "# Part 2. Make the GET request\n",
    "        results = requests.get(url).json()[\"response\"]['groups'][0]['items']\n",
    "\n",
    "\n",
    "# Part 3. Return only relevant information for each pub and append to the list \n",
    "        pub_list.append([(\n",
    "            name, \n",
    "            lat, \n",
    "            lng,\n",
    "            p['pub']['name'], \n",
    "            p['pub']['location']['lat'], \n",
    "            p['pub']['location']['lng'],  \n",
    "            p['pub']['categories'][0]['name']) for p in results])\n",
    "        \n",
    "\n",
    "# Part 4. Create a datafrane using pub_list \n",
    "    local_pubs = pd.DataFrame([item for pub_list in pub_list for item in pub_list])\n",
    "    local_pubs.columns = ['Name', \n",
    "                  'Neighborhood', \n",
    "                  'Longitude', \n",
    "                  'Latitude', \n",
    "                  'Hours_popular', \n",
    "                  'rating', \n",
    "                  'price', \n",
    "                  'taste', \n",
    "                  'tips', \n",
    "                  'popularity']\n",
    "        \n",
    "    return (local_pubs)\n",
    "        \n",
    "     "
   ]
  },
  {
   "cell_type": "code",
   "execution_count": 6,
   "id": "0f9292d0-42ee-477a-9e80-a2fa34e3758c",
   "metadata": {},
   "outputs": [],
   "source": []
  },
  {
   "cell_type": "code",
   "execution_count": 69,
   "id": "0ca0e71e-9ed5-4c4d-88f4-3d39e5cfb50f",
   "metadata": {},
   "outputs": [],
   "source": [
    "def getPubVenues(names, latitudes, longitudes):\n",
    "    \n",
    "    venues_list=[]\n",
    "    for name, lat, lng in zip(names, latitudes, longitudes):\n",
    "        print(name)\n",
    "            \n",
    "# Part 1: Create the API request URL\n",
    "        url = 'https://api.foursquare.com/v2/venues/explore?&client_id={}&client_secret={}&v={}&ll={},{}&radius={}&limit={}'.format(\n",
    "            CLIENT_ID, \n",
    "            CLIENT_SECRET, \n",
    "            VERSION, \n",
    "            lat, \n",
    "            lng, \n",
    "            radius, \n",
    "            LIMIT)\n",
    "            \n",
    "# Part 2. Make the GET request\n",
    "        results = requests.get(url).json()[\"response\"]['groups'][0]['items']\n",
    "\n",
    "# Part 3. Return only relevant information for each nearby venue and append to the list \n",
    "        venues_list.append([(\n",
    "            name, \n",
    "            lat, \n",
    "            lng,\n",
    "            v['venue']['name'], \n",
    "            v['venue']['location']['lat'], \n",
    "            v['venue']['location']['lng'],  \n",
    "            v['venue']['categories'][0]['name']) for v in results])\n",
    "\n",
    "# Part 4. Create a datafrane using venue_list \n",
    "    nearby_venues = pd.DataFrame([item for venue_list in venues_list for item in venue_list])\n",
    "    nearby_venues.columns = ['Neighborhood', \n",
    "                  'Neighborhood Latitude', \n",
    "                  'Neighborhood Longitude', \n",
    "                  'Venue', \n",
    "                  'Venue Latitude', \n",
    "                  'Venue Longitude', \n",
    "                  'Venue Category']\n",
    "        \n",
    "    return (nearby_venues)"
   ]
  },
  {
   "cell_type": "code",
   "execution_count": 71,
   "id": "33cbd284-cf35-435d-baa6-53fac228f621",
   "metadata": {},
   "outputs": [
    {
     "ename": "NameError",
     "evalue": "name 'df' is not defined",
     "output_type": "error",
     "traceback": [
      "\u001b[1;31m---------------------------------------------------------------------------\u001b[0m",
      "\u001b[1;31mNameError\u001b[0m                                 Traceback (most recent call last)",
      "Cell \u001b[1;32mIn[71], line 2\u001b[0m\n\u001b[0;32m      1\u001b[0m \u001b[38;5;66;03m# Call the funstion which was defined above\u001b[39;00m\n\u001b[1;32m----> 2\u001b[0m antwerp_venues \u001b[38;5;241m=\u001b[39m getNearbyVenues(names \u001b[38;5;241m=\u001b[39m df[\u001b[38;5;124m'\u001b[39m\u001b[38;5;124mNeighbourhoods\u001b[39m\u001b[38;5;124m'\u001b[39m],\n\u001b[0;32m      3\u001b[0m                               latitudes \u001b[38;5;241m=\u001b[39m df[\u001b[38;5;124m'\u001b[39m\u001b[38;5;124mLatitude\u001b[39m\u001b[38;5;124m'\u001b[39m],\n\u001b[0;32m      4\u001b[0m                             longitudes \u001b[38;5;241m=\u001b[39m df[\u001b[38;5;124m'\u001b[39m\u001b[38;5;124mLongitude\u001b[39m\u001b[38;5;124m'\u001b[39m])\n",
      "\u001b[1;31mNameError\u001b[0m: name 'df' is not defined"
     ]
    }
   ],
   "source": [
    "# Call the funstion which was defined above\n",
    "bristolpub_venues = getNearbyVenues(names = df['Neighbourhoods'],\n",
    "                              latitudes = df['Latitude'],\n",
    "                            longitudes = df['Longitude'])"
   ]
  },
  {
   "cell_type": "code",
   "execution_count": null,
   "id": "ad6013f6-ceba-4e96-a725-20f946ac3179",
   "metadata": {},
   "outputs": [],
   "source": []
  },
  {
   "cell_type": "code",
   "execution_count": null,
   "id": "d1167e19-4073-45b9-9de7-541466d8acd6",
   "metadata": {},
   "outputs": [],
   "source": []
  }
 ],
 "metadata": {
  "kernelspec": {
   "display_name": "Python 3 (ipykernel)",
   "language": "python",
   "name": "python3"
  },
  "language_info": {
   "codemirror_mode": {
    "name": "ipython",
    "version": 3
   },
   "file_extension": ".py",
   "mimetype": "text/x-python",
   "name": "python",
   "nbconvert_exporter": "python",
   "pygments_lexer": "ipython3",
   "version": "3.12.4"
  }
 },
 "nbformat": 4,
 "nbformat_minor": 5
}
